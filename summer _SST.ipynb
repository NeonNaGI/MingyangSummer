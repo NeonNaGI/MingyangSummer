{
 "cells": [
  {
   "cell_type": "code",
   "execution_count": 1,
   "id": "d92c99bc",
   "metadata": {
    "colab": {
     "base_uri": "https://localhost:8080/"
    },
    "id": "d92c99bc",
    "outputId": "17d979a2-4613-4f09-885c-afa3c2b50fff"
   },
   "outputs": [],
   "source": [
    "import numpy as np\n",
    "import time\n",
    "import torch\n",
    "import matplotlib.pyplot as plt\n",
    "import pandas as pd\n",
    "import csv\n",
    "import math\n",
    "from sklearn.tree import DecisionTreeRegressor\n",
    "from sklearn.metrics import roc_curve, roc_auc_score\n",
    "from sklearn.naive_bayes import MultinomialNB\n",
    "from sklearn.neighbors import KNeighborsClassifier\n",
    "from sklearn.linear_model import LogisticRegression\n",
    "from tensorflow.keras.models import Sequential,Model\n",
    "from tensorflow.keras.layers import Embedding, SimpleRNN, Dense,Conv1D, GlobalMaxPooling1D,Input\n",
    "from tensorflow.keras.preprocessing.text import Tokenizer\n",
    "from tensorflow.keras.preprocessing.sequence import pad_sequences\n",
    "from sklearn.metrics import accuracy_score, precision_score, recall_score, f1_score, classification_report"
   ]
  },
  {
   "cell_type": "code",
   "execution_count": 2,
   "id": "702ae4c1",
   "metadata": {
    "colab": {
     "base_uri": "https://localhost:8080/",
     "height": 414
    },
    "id": "702ae4c1",
    "outputId": "022db225-e708-4df5-bdc9-09dc3a2f343b"
   },
   "outputs": [
    {
     "data": {
      "text/html": [
       "<div>\n",
       "<style scoped>\n",
       "    .dataframe tbody tr th:only-of-type {\n",
       "        vertical-align: middle;\n",
       "    }\n",
       "\n",
       "    .dataframe tbody tr th {\n",
       "        vertical-align: top;\n",
       "    }\n",
       "\n",
       "    .dataframe thead th {\n",
       "        text-align: right;\n",
       "    }\n",
       "</style>\n",
       "<table border=\"1\" class=\"dataframe\">\n",
       "  <thead>\n",
       "    <tr style=\"text-align: right;\">\n",
       "      <th></th>\n",
       "      <th>sentence</th>\n",
       "      <th>label</th>\n",
       "    </tr>\n",
       "  </thead>\n",
       "  <tbody>\n",
       "    <tr>\n",
       "      <th>0</th>\n",
       "      <td>hide new secretions from the parental units</td>\n",
       "      <td>0</td>\n",
       "    </tr>\n",
       "    <tr>\n",
       "      <th>1</th>\n",
       "      <td>contains no wit , only labored gags</td>\n",
       "      <td>0</td>\n",
       "    </tr>\n",
       "    <tr>\n",
       "      <th>2</th>\n",
       "      <td>that loves its characters and communicates som...</td>\n",
       "      <td>1</td>\n",
       "    </tr>\n",
       "    <tr>\n",
       "      <th>3</th>\n",
       "      <td>remains utterly satisfied to remain the same t...</td>\n",
       "      <td>0</td>\n",
       "    </tr>\n",
       "    <tr>\n",
       "      <th>4</th>\n",
       "      <td>on the worst revenge-of-the-nerds clichés the ...</td>\n",
       "      <td>0</td>\n",
       "    </tr>\n",
       "  </tbody>\n",
       "</table>\n",
       "</div>"
      ],
      "text/plain": [
       "                                            sentence  label\n",
       "0       hide new secretions from the parental units       0\n",
       "1               contains no wit , only labored gags       0\n",
       "2  that loves its characters and communicates som...      1\n",
       "3  remains utterly satisfied to remain the same t...      0\n",
       "4  on the worst revenge-of-the-nerds clichés the ...      0"
      ]
     },
     "execution_count": 2,
     "metadata": {},
     "output_type": "execute_result"
    }
   ],
   "source": [
    "trainname = \"train.tsv\"\n",
    "evlname = \"dev.tsv\"\n",
    "testname = \"test.tsv\"\n",
    "trainset = pd.read_csv(\"./dataset/SST-2/\"+trainname,sep=\"\\t\",error_bad_lines = False).drop_duplicates()\n",
    "\n",
    "evlset = pd.read_csv(\"./dataset/SST-2/\"+evlname,sep=\"\\t\",error_bad_lines = False).drop_duplicates()\n",
    "\n",
    "testset = pd.read_csv(\"./dataset/SST-2/\"+testname,sep=\"\\t\",error_bad_lines = False,quoting = csv.QUOTE_NONE).drop_duplicates()\n",
    "\n",
    "trainset.head(5)"
   ]
  },
  {
   "cell_type": "code",
   "execution_count": 3,
   "id": "5c9c37d9",
   "metadata": {
    "id": "5c9c37d9"
   },
   "outputs": [],
   "source": [
    "import torch\n",
    "\n",
    "# 禁用GPU，将所有张量放置在CPU上\n",
    "device = torch.device(\"cpu\")"
   ]
  },
  {
   "cell_type": "code",
   "execution_count": 4,
   "id": "af2309e5",
   "metadata": {
    "colab": {
     "base_uri": "https://localhost:8080/",
     "height": 206
    },
    "id": "af2309e5",
    "outputId": "31287fd7-10aa-4e2c-9e44-7f6f1e324f0c"
   },
   "outputs": [
    {
     "data": {
      "text/html": [
       "<div>\n",
       "<style scoped>\n",
       "    .dataframe tbody tr th:only-of-type {\n",
       "        vertical-align: middle;\n",
       "    }\n",
       "\n",
       "    .dataframe tbody tr th {\n",
       "        vertical-align: top;\n",
       "    }\n",
       "\n",
       "    .dataframe thead th {\n",
       "        text-align: right;\n",
       "    }\n",
       "</style>\n",
       "<table border=\"1\" class=\"dataframe\">\n",
       "  <thead>\n",
       "    <tr style=\"text-align: right;\">\n",
       "      <th></th>\n",
       "      <th>sentence</th>\n",
       "      <th>label</th>\n",
       "    </tr>\n",
       "  </thead>\n",
       "  <tbody>\n",
       "    <tr>\n",
       "      <th>0</th>\n",
       "      <td>it 's a charming and often affecting journey .</td>\n",
       "      <td>1</td>\n",
       "    </tr>\n",
       "    <tr>\n",
       "      <th>1</th>\n",
       "      <td>unflinchingly bleak and desperate</td>\n",
       "      <td>0</td>\n",
       "    </tr>\n",
       "    <tr>\n",
       "      <th>2</th>\n",
       "      <td>allows us to hope that nolan is poised to emba...</td>\n",
       "      <td>1</td>\n",
       "    </tr>\n",
       "    <tr>\n",
       "      <th>3</th>\n",
       "      <td>the acting , costumes , music , cinematography...</td>\n",
       "      <td>1</td>\n",
       "    </tr>\n",
       "    <tr>\n",
       "      <th>4</th>\n",
       "      <td>it 's slow -- very , very slow .</td>\n",
       "      <td>0</td>\n",
       "    </tr>\n",
       "  </tbody>\n",
       "</table>\n",
       "</div>"
      ],
      "text/plain": [
       "                                            sentence  label\n",
       "0    it 's a charming and often affecting journey .       1\n",
       "1                 unflinchingly bleak and desperate       0\n",
       "2  allows us to hope that nolan is poised to emba...      1\n",
       "3  the acting , costumes , music , cinematography...      1\n",
       "4                  it 's slow -- very , very slow .       0"
      ]
     },
     "execution_count": 4,
     "metadata": {},
     "output_type": "execute_result"
    }
   ],
   "source": [
    "evlset.head(5)"
   ]
  },
  {
   "cell_type": "code",
   "execution_count": 5,
   "id": "ecfa3d5b",
   "metadata": {
    "colab": {
     "base_uri": "https://localhost:8080/",
     "height": 206
    },
    "id": "ecfa3d5b",
    "outputId": "50a51753-92c1-4e51-fbc0-d054ae4339e0"
   },
   "outputs": [
    {
     "data": {
      "text/html": [
       "<div>\n",
       "<style scoped>\n",
       "    .dataframe tbody tr th:only-of-type {\n",
       "        vertical-align: middle;\n",
       "    }\n",
       "\n",
       "    .dataframe tbody tr th {\n",
       "        vertical-align: top;\n",
       "    }\n",
       "\n",
       "    .dataframe thead th {\n",
       "        text-align: right;\n",
       "    }\n",
       "</style>\n",
       "<table border=\"1\" class=\"dataframe\">\n",
       "  <thead>\n",
       "    <tr style=\"text-align: right;\">\n",
       "      <th></th>\n",
       "      <th>index</th>\n",
       "      <th>sentence</th>\n",
       "    </tr>\n",
       "  </thead>\n",
       "  <tbody>\n",
       "    <tr>\n",
       "      <th>0</th>\n",
       "      <td>0</td>\n",
       "      <td>uneasy mishmash of styles and genres .</td>\n",
       "    </tr>\n",
       "    <tr>\n",
       "      <th>1</th>\n",
       "      <td>1</td>\n",
       "      <td>this film 's relationship to actual tension is...</td>\n",
       "    </tr>\n",
       "    <tr>\n",
       "      <th>2</th>\n",
       "      <td>2</td>\n",
       "      <td>by the end of no such thing the audience , lik...</td>\n",
       "    </tr>\n",
       "    <tr>\n",
       "      <th>3</th>\n",
       "      <td>3</td>\n",
       "      <td>director rob marshall went out gunning to make...</td>\n",
       "    </tr>\n",
       "    <tr>\n",
       "      <th>4</th>\n",
       "      <td>4</td>\n",
       "      <td>lathan and diggs have considerable personal ch...</td>\n",
       "    </tr>\n",
       "  </tbody>\n",
       "</table>\n",
       "</div>"
      ],
      "text/plain": [
       "   index                                           sentence\n",
       "0      0             uneasy mishmash of styles and genres .\n",
       "1      1  this film 's relationship to actual tension is...\n",
       "2      2  by the end of no such thing the audience , lik...\n",
       "3      3  director rob marshall went out gunning to make...\n",
       "4      4  lathan and diggs have considerable personal ch..."
      ]
     },
     "execution_count": 5,
     "metadata": {},
     "output_type": "execute_result"
    }
   ],
   "source": [
    "testset.head(5)"
   ]
  },
  {
   "cell_type": "code",
   "execution_count": 6,
   "id": "dbdd0270",
   "metadata": {
    "id": "dbdd0270"
   },
   "outputs": [],
   "source": [
    "from sklearn.feature_extraction.text import CountVectorizer\n",
    "from nltk import word_tokenize\n",
    "train_set = trainset.drop_duplicates()\n",
    "test_set = evlset.drop_duplicates()"
   ]
  },
  {
   "cell_type": "code",
   "execution_count": 7,
   "id": "e960c49e",
   "metadata": {
    "id": "e960c49e"
   },
   "outputs": [],
   "source": [
    "train_set.columns = ['verse_text','label']\n",
    "test_set.columns = ['verse_text','label']\n",
    "def transtoDict(train_set):\n",
    "    train_set_bert = []\n",
    "    ver_text = train_set['verse_text']\n",
    "    ver_label = train_set['label']\n",
    "    for text,label in dict(zip(ver_text,ver_label)).items():\n",
    "        train_set_bert.append({'text':text,\n",
    "                              'label':label})\n",
    "    return train_set_bert\n",
    "train_set_bert = transtoDict(train_set)\n",
    "test_set_bert = train_set_bert[int(len(train_set_bert)*0.9):len(train_set_bert)]\n",
    "train_set_bert = train_set_bert[0:int(len(train_set_bert)*0.4)]\n",
    "test_set_bert_real = transtoDict(test_set)\n",
    "ver_text = []\n",
    "ver_label = []\n",
    "for sample in train_set_bert:\n",
    "    ver_text.append(sample['text'])\n",
    "    ver_label.append(sample['label'])\n",
    "train_text = ver_text\n",
    "train_label = ver_label\n",
    "ver_test_text = []\n",
    "ver_test_label = []\n",
    "for sample in test_set_bert:\n",
    "    ver_test_text.append(sample['text'])\n",
    "    ver_test_label.append(sample['label'])\n",
    "test_text = ver_test_text\n",
    "test_label = ver_test_label\n",
    "test_text_real = []\n",
    "test_label_real = []\n",
    "for sample in test_set_bert_real:\n",
    "    test_text_real.append(sample['text'])\n",
    "    test_label_real.append(sample['label'])\n",
    "all_text = train_text + test_text + test_text_real"
   ]
  },
  {
   "cell_type": "code",
   "execution_count": 8,
   "id": "2268344f",
   "metadata": {
    "id": "2268344f"
   },
   "outputs": [],
   "source": [
    "tokenizer = Tokenizer()\n",
    "tokenizer.fit_on_texts((all_text))\n",
    "sequences = tokenizer.texts_to_sequences(train_text)\n",
    "max_length = max(len(sequence) for sequence in sequences)\n",
    "token_seq = pad_sequences(sequences, maxlen=max_length, padding='post')"
   ]
  },
  {
   "cell_type": "code",
   "execution_count": 9,
   "id": "b1b01458",
   "metadata": {
    "id": "b1b01458"
   },
   "outputs": [],
   "source": [
    "test_sequences_real = tokenizer.texts_to_sequences(test_text_real)\n",
    "test_sequences_real = pad_sequences(test_sequences_real, maxlen=max_length, padding='post')"
   ]
  },
  {
   "cell_type": "code",
   "execution_count": 10,
   "id": "c5a0201d",
   "metadata": {
    "id": "c5a0201d"
   },
   "outputs": [],
   "source": [
    "test_sequences = tokenizer.texts_to_sequences(test_text)\n",
    "test_sequences = pad_sequences(test_sequences, maxlen=max_length, padding='post')"
   ]
  },
  {
   "cell_type": "code",
   "execution_count": 11,
   "id": "beb87acd",
   "metadata": {
    "colab": {
     "base_uri": "https://localhost:8080/"
    },
    "id": "beb87acd",
    "outputId": "4d686bb3-9fee-4267-8982-7ff0f2165bfc",
    "scrolled": true
   },
   "outputs": [
    {
     "name": "stdout",
     "output_type": "stream",
     "text": [
      "              precision    recall  f1-score   support\n",
      "\n",
      "           0       0.55      0.55      0.55      2955\n",
      "           1       0.64      0.64      0.64      3743\n",
      "\n",
      "    accuracy                           0.60      6698\n",
      "   macro avg       0.59      0.59      0.59      6698\n",
      "weighted avg       0.60      0.60      0.60      6698\n",
      "\n",
      "Accuracy = 0.5989847715736041\n",
      "Precision (macro average) = 0.5935370056508145\n",
      "Recall (macro average) = 0.5936414640662571\n",
      "F1 score (macro average) = 0.5935857729489225\n",
      "Total example:6698, We have 3727 postive examples.\n"
     ]
    }
   ],
   "source": [
    "from sklearn.tree import DecisionTreeClassifier\n",
    "dtc = DecisionTreeClassifier(criterion = 'entropy',max_depth = 128,random_state=0)\n",
    "dtc.fit(token_seq,train_label)\n",
    "pre_dtc = dtc.predict(test_sequences)\n",
    "print(classification_report(test_label, pre_dtc))\n",
    "acc_dtc = accuracy_score(test_label, pre_dtc)\n",
    "print(f'Accuracy = {acc_dtc}')\n",
    "\n",
    "prec = precision_score(test_label,pre_dtc, average='macro')\n",
    "print(f'Precision (macro average) = {prec}')\n",
    "\n",
    "rec = recall_score(test_label, pre_dtc, average='macro')\n",
    "print(f'Recall (macro average) = {rec}')\n",
    "\n",
    "f1 = f1_score(test_label, pre_dtc, average='macro')\n",
    "print(f'F1 score (macro average) = {f1}')\n",
    "print(f'Total example:{len(pre_dtc)}, We have {sum(pre_dtc)} postive examples.')"
   ]
  },
  {
   "cell_type": "code",
   "execution_count": 12,
   "id": "f36fc3c1",
   "metadata": {
    "colab": {
     "base_uri": "https://localhost:8080/",
     "height": 472
    },
    "id": "f36fc3c1",
    "outputId": "1be1946a-0f98-4d8b-c83d-3af6c32cc057"
   },
   "outputs": [
    {
     "data": {
      "image/png": "[encoded data removed]",
      "text/plain": [
       "<Figure size 432x288 with 1 Axes>"
      ]
     },
     "metadata": {
      "needs_background": "light"
     },
     "output_type": "display_data"
    }
   ],
   "source": [
    "pre_dtc_prob = dtc.predict_proba(test_sequences)[:,1]\n",
    "fpr, tpr, _ = roc_curve(test_label, pre_dtc_prob)\n",
    "roc_auc = roc_auc_score(test_label, pre_dtc_prob)\n",
    "plt.figure()\n",
    "plt.plot(fpr, tpr, color='darkorange', lw=2, label=f'ROC curve (AUC = {roc_auc:.2f})')\n",
    "plt.plot([0, 1], [0, 1], color='navy', lw=2, linestyle='--')\n",
    "plt.xlim([0.0, 1.0])\n",
    "plt.ylim([0.0, 1.05])\n",
    "plt.xlabel('False Positive Rate')\n",
    "plt.ylabel('True Positive Rate')\n",
    "plt.title('Receiver Operating Characteristic (ROC)')\n",
    "plt.legend(loc='lower right')\n",
    "plt.show()"
   ]
  },
  {
   "cell_type": "code",
   "execution_count": null,
   "id": "QI-5LA5XdsiG",
   "metadata": {
    "id": "QI-5LA5XdsiG"
   },
   "outputs": [],
   "source": []
  },
  {
   "cell_type": "code",
   "execution_count": 13,
   "id": "60c4f99c",
   "metadata": {
    "colab": {
     "base_uri": "https://localhost:8080/"
    },
    "id": "60c4f99c",
    "outputId": "f5f5721e-8538-4aea-a578-9bb51cee0c0d"
   },
   "outputs": [
    {
     "name": "stdout",
     "output_type": "stream",
     "text": [
      "Completes processing 26791 samples.Cost time: 1.4102675914764404\n",
      "Completes processing 6698 samples.Cost time: 0.37699460983276367\n"
     ]
    }
   ],
   "source": [
    "####Time cost prediction Dtc####\n",
    "time_dtc = []\n",
    "time_test_dtc = []\n",
    "train_dtc_ans = []\n",
    "test_dtc_ans = []\n",
    "for text in token_seq:\n",
    "    start_time = time.time()\n",
    "    train_dtc_ans.append(dtc.predict(np.expand_dims(text,0)))\n",
    "    time_dtc.append(time.time() - start_time)\n",
    "print(f'Completes processing {len(token_seq)} samples.Cost time: {sum(time_dtc)}')\n",
    "for text in test_sequences:\n",
    "    start_time = time.time()\n",
    "    test_dtc_ans.append(dtc.predict(np.expand_dims(text,0)))\n",
    "    time_test_dtc.append(time.time() - start_time)\n",
    "print(f'Completes processing {len(test_sequences)} samples.Cost time: {sum(time_test_dtc)}')"
   ]
  },
  {
   "cell_type": "code",
   "execution_count": 14,
   "id": "00fca13d",
   "metadata": {
    "id": "00fca13d"
   },
   "outputs": [],
   "source": [
    "real_dtc_test = dtc.predict(test_sequences_real)"
   ]
  },
  {
   "cell_type": "code",
   "execution_count": 15,
   "id": "c8e8977c",
   "metadata": {
    "colab": {
     "base_uri": "https://localhost:8080/",
     "height": 397
    },
    "id": "c8e8977c",
    "outputId": "32f7f0d0-46d1-4be3-b73c-39cc87f06e59"
   },
   "outputs": [
    {
     "name": "stdout",
     "output_type": "stream",
     "text": [
      "4\n",
      "0.3547050615865239\n"
     ]
    },
    {
     "data": {
      "text/html": [
       "<div>\n",
       "<style scoped>\n",
       "    .dataframe tbody tr th:only-of-type {\n",
       "        vertical-align: middle;\n",
       "    }\n",
       "\n",
       "    .dataframe tbody tr th {\n",
       "        vertical-align: top;\n",
       "    }\n",
       "\n",
       "    .dataframe thead th {\n",
       "        text-align: right;\n",
       "    }\n",
       "</style>\n",
       "<table border=\"1\" class=\"dataframe\">\n",
       "  <thead>\n",
       "    <tr style=\"text-align: right;\">\n",
       "      <th></th>\n",
       "      <th>Pre</th>\n",
       "      <th>Truth</th>\n",
       "    </tr>\n",
       "  </thead>\n",
       "  <tbody>\n",
       "    <tr>\n",
       "      <th>0</th>\n",
       "      <td>0.000053</td>\n",
       "      <td>0.0</td>\n",
       "    </tr>\n",
       "    <tr>\n",
       "      <th>1</th>\n",
       "      <td>0.000053</td>\n",
       "      <td>0.0</td>\n",
       "    </tr>\n",
       "    <tr>\n",
       "      <th>2</th>\n",
       "      <td>0.000053</td>\n",
       "      <td>0.0</td>\n",
       "    </tr>\n",
       "    <tr>\n",
       "      <th>3</th>\n",
       "      <td>0.000053</td>\n",
       "      <td>0.0</td>\n",
       "    </tr>\n",
       "    <tr>\n",
       "      <th>4</th>\n",
       "      <td>0.000053</td>\n",
       "      <td>0.0</td>\n",
       "    </tr>\n",
       "    <tr>\n",
       "      <th>5</th>\n",
       "      <td>0.000053</td>\n",
       "      <td>0.0</td>\n",
       "    </tr>\n",
       "    <tr>\n",
       "      <th>6</th>\n",
       "      <td>0.000053</td>\n",
       "      <td>0.0</td>\n",
       "    </tr>\n",
       "    <tr>\n",
       "      <th>7</th>\n",
       "      <td>0.000053</td>\n",
       "      <td>0.0</td>\n",
       "    </tr>\n",
       "    <tr>\n",
       "      <th>8</th>\n",
       "      <td>0.000053</td>\n",
       "      <td>0.0</td>\n",
       "    </tr>\n",
       "    <tr>\n",
       "      <th>9</th>\n",
       "      <td>0.000053</td>\n",
       "      <td>0.0</td>\n",
       "    </tr>\n",
       "  </tbody>\n",
       "</table>\n",
       "</div>"
      ],
      "text/plain": [
       "        Pre  Truth\n",
       "0  0.000053    0.0\n",
       "1  0.000053    0.0\n",
       "2  0.000053    0.0\n",
       "3  0.000053    0.0\n",
       "4  0.000053    0.0\n",
       "5  0.000053    0.0\n",
       "6  0.000053    0.0\n",
       "7  0.000053    0.0\n",
       "8  0.000053    0.0\n",
       "9  0.000053    0.0"
      ]
     },
     "execution_count": 15,
     "metadata": {},
     "output_type": "execute_result"
    }
   ],
   "source": [
    "max_depth_list = [4,8,10,20,30,50,75,100,200,300,500]\n",
    "best_depth = 0\n",
    "best_loss = 99999\n",
    "for depth in max_depth_list:\n",
    "    dtr_dtc = DecisionTreeRegressor(max_depth=depth, random_state=42)\n",
    "    dtr_dtc.fit(token_seq,time_dtc)\n",
    "    time_predict_dtc = dtr_dtc.predict(test_sequences)\n",
    "    loss = sum(abs(np.array(time_predict_dtc - time_test_dtc)**2))\n",
    "    if best_loss>loss:\n",
    "        best_loss = loss\n",
    "        best_depth = depth\n",
    "print(best_depth)\n",
    "dtr_dtc = DecisionTreeRegressor(max_depth=best_depth, random_state=42)\n",
    "dtr_dtc.fit(token_seq,time_dtc)\n",
    "time_predict_dtc = dtr_dtc.predict(test_sequences)\n",
    "time_list = pd.DataFrame({'Pre':time_predict_dtc,\n",
    "                         'Truth':time_test_dtc})\n",
    "print(sum(time_predict_dtc))\n",
    "time_list.head(10)"
   ]
  },
  {
   "cell_type": "code",
   "execution_count": null,
   "id": "1438f666",
   "metadata": {
    "colab": {
     "base_uri": "https://localhost:8080/"
    },
    "id": "1438f666",
    "outputId": "1736b993-b5e9-4dc2-de3c-2e5036138dab"
   },
   "outputs": [],
   "source": []
  },
  {
   "cell_type": "code",
   "execution_count": 16,
   "id": "ea634114",
   "metadata": {
    "colab": {
     "base_uri": "https://localhost:8080/",
     "height": 202,
     "referenced_widgets": [
      "719ed1bf06b94762b7738ed0acd5e5a1",
      "6ecb4a9ef0d9406fb3d2d66f2c668463",
      "af6a93b5c2504f8e8d72daf30f3e2479",
      "cf5fc98f02044299b47f4cb87cf49009",
      "833aedea27d8420ea46e173fe6ee85cc",
      "a5c768a1171c4ea9b81b28e12925c225",
      "eb4ed875da6e4f85885ae800b6e16df2",
      "d0efbcc559fd4c79a00e9b93146dbd61",
      "8f09d6b6c2aa4e96b930b5d7e36af327",
      "cb9b32cb3dcc46a9bdbb53de7b96489e",
      "194f01770fae4f4daf3374079c95e979",
      "58d589e0dcb7426abebc70f92e7805d2",
      "15fa20032ca5476eabcb71df0dc843db",
      "4a3d96fdd3f1404c9a5b5d45221b4d2e",
      "07bce2fff91d416c864f63a6473e3c6f",
      "0570f0f097d04b41ad001b009d393b30",
      "8215285763ec41ef87097680e085c8ce",
      "67656c27c33644dfba7d88ead66acbb1",
      "b5b20f3aea6e4c6faaa2e6b00997efbc",
      "53144ba141ca47c0ad6c61d69974c43a",
      "e44d85ecfc10458aa9190eb701110803",
      "46fdc4e334b34d418e8f4ecc0f9f8202",
      "c439558f302f42239cd9c2764e09469c",
      "1edaa8803d914b9fb15214e77ebf5c5c",
      "c33a6f2be38f491ca7ab0cca069f2c53",
      "edd1cca7ed7f4e5dbc8b0ead16f3829b",
      "631fdd61294d4114ab2805e6c36a84dc",
      "514e0fecaa9441b7be611d295dc85258",
      "55ee73b145cd4ef4b2b97a865e341455",
      "2d3bc491d68e401da3d031e2a193099f",
      "2cdbafc6c38d44adbbee1fd0433457e7",
      "908485d7f3f5476a888459400acfeb9f",
      "e15cd38be5fc415aa25e5a935df8e037"
     ]
    },
    "id": "ea634114",
    "outputId": "df7f0530-633f-4399-c52b-8566cce760bd"
   },
   "outputs": [
    {
     "name": "stderr",
     "output_type": "stream",
     "text": [
      "Some weights of BertForSequenceClassification were not initialized from the model checkpoint at huawei-noah/TinyBERT_General_4L_312D and are newly initialized: ['classifier.bias', 'classifier.weight']\n",
      "You should probably TRAIN this model on a down-stream task to be able to use it for predictions and inference.\n"
     ]
    },
    {
     "name": "stdout",
     "output_type": "stream",
     "text": [
      "Completes, totally 26791 samples proceeded.\n",
      "Completes, totally 6698 samples proceeded.\n"
     ]
    }
   ],
   "source": [
    "from transformers import AutoTokenizer\n",
    "from transformers import AutoModelForSequenceClassification\n",
    "from torch.utils.data import DataLoader, TensorDataset\n",
    "model_new = AutoModelForSequenceClassification.from_pretrained(\"huawei-noah/TinyBERT_General_4L_312D\",num_labels = 2)\n",
    "tokenizer_pre = AutoTokenizer.from_pretrained(\"huawei-noah/TinyBERT_General_4L_312D\")\n",
    "def creatDataset(train_data,tensor_return):\n",
    "    input_ids_list = []\n",
    "    attention_mask_list = []\n",
    "    labels = []\n",
    "    for sample in train_data:\n",
    "        encoded_inputs = tokenizer_pre(sample['text'], padding='max_length',max_length=max_length, truncation=True, return_tensors='pt')\n",
    "        input_ids_list.append(encoded_inputs['input_ids'].squeeze())\n",
    "        attention_mask_list.append(encoded_inputs['attention_mask'].squeeze())\n",
    "        labels.append(sample['label'])\n",
    "    print(f'Completes, totally {len(train_data)} samples proceeded.')\n",
    "    input_ids_tensor = torch.stack(input_ids_list)\n",
    "    attention_mask_tensor = torch.stack(attention_mask_list)\n",
    "    labels_tensor = torch.tensor(labels)\n",
    "    train_dataset = TensorDataset(input_ids_tensor, attention_mask_tensor, labels_tensor)\n",
    "    train_loader = DataLoader(train_dataset, batch_size=32, shuffle=True)\n",
    "    if tensor_return:\n",
    "        return train_loader,input_ids_tensor,attention_mask_tensor,labels_tensor\n",
    "    else:\n",
    "        return train_loader\n",
    "train_loader = creatDataset(train_set_bert,False)\n",
    "test_loader,test_input,test_am,test_l= creatDataset(test_set_bert,True)"
   ]
  },
  {
   "cell_type": "code",
   "execution_count": 17,
   "id": "b545f709",
   "metadata": {
    "id": "b545f709"
   },
   "outputs": [],
   "source": [
    "device = 'cpu'"
   ]
  },
  {
   "cell_type": "code",
   "execution_count": 18,
   "id": "66aa5199",
   "metadata": {
    "colab": {
     "base_uri": "https://localhost:8080/"
    },
    "id": "66aa5199",
    "outputId": "92a6e229-a246-46b0-e293-92ac5d7a13cd"
   },
   "outputs": [
    {
     "name": "stdout",
     "output_type": "stream",
     "text": [
      "Epoch 1 completes, cost time: 395.5067067146301\n",
      "Epoch 2 completes, cost time: 409.0104637145996\n",
      "Epoch 3 completes, cost time: 424.04146575927734\n",
      "Epoch 4 completes, cost time: 409.5997643470764\n",
      "Epoch 5 completes, cost time: 424.74215507507324\n",
      "Epoch 6 completes, cost time: 412.86442041397095\n",
      "Epoch 7 completes, cost time: 410.2856698036194\n",
      "Epoch 8 completes, cost time: 400.7676351070404\n",
      "Epoch 9 completes, cost time: 404.3139441013336\n",
      "Epoch 10 completes, cost time: 404.35300493240356\n",
      "Epoch 11 completes, cost time: 398.9581232070923\n",
      "Epoch 12 completes, cost time: 400.87004923820496\n",
      "Epoch 13 completes, cost time: 398.88320112228394\n",
      "Epoch 14 completes, cost time: 399.3806290626526\n",
      "Epoch 15 completes, cost time: 402.1370015144348\n"
     ]
    }
   ],
   "source": [
    "# 定义损失函数和优化器\n",
    "loss_function = torch.nn.CrossEntropyLoss()\n",
    "optimizer = torch.optim.Adam(model_new.parameters(), lr=2e-5)\n",
    "\n",
    "# 开始训练\n",
    "model_new.train()\n",
    "for param in model_new.bert.parameters():\n",
    "    param.requires_grad = True\n",
    "\n",
    "for epoch in range(15):\n",
    "    start_time = time.time()\n",
    "    for batch in train_loader:\n",
    "        inputs, attention_mask, labels = batch\n",
    "        optimizer.zero_grad()\n",
    "        outputs = model_new(input_ids=inputs, attention_mask=attention_mask, labels=labels)\n",
    "        loss = outputs.loss\n",
    "        loss.backward()\n",
    "        optimizer.step()\n",
    "    print(f'Epoch {epoch + 1} completes, cost time: {time.time()-start_time}')"
   ]
  },
  {
   "cell_type": "code",
   "execution_count": 19,
   "id": "00ac8ad0",
   "metadata": {
    "id": "00ac8ad0"
   },
   "outputs": [
    {
     "data": {
      "text/plain": [
       "('./dataset/SST-2\\\\tokenizer_config.json',\n",
       " './dataset/SST-2\\\\special_tokens_map.json',\n",
       " './dataset/SST-2\\\\vocab.txt',\n",
       " './dataset/SST-2\\\\added_tokens.json',\n",
       " './dataset/SST-2\\\\tokenizer.json')"
      ]
     },
     "execution_count": 19,
     "metadata": {},
     "output_type": "execute_result"
    }
   ],
   "source": [
    "model_new.save_pretrained('./dataset/SST-2')\n",
    "tokenizer_pre.save_pretrained('./dataset/SST-2')"
   ]
  },
  {
   "cell_type": "code",
   "execution_count": 20,
   "id": "f66d7f31",
   "metadata": {
    "id": "f66d7f31"
   },
   "outputs": [],
   "source": [
    "model_new = AutoModelForSequenceClassification.from_pretrained('./dataset/SST-2')\n",
    "tokenizer_pre = AutoTokenizer.from_pretrained('./dataset/SST-2')"
   ]
  },
  {
   "cell_type": "markdown",
   "id": "-6K5b8FIHjec",
   "metadata": {
    "id": "-6K5b8FIHjec"
   },
   "source": []
  },
  {
   "cell_type": "code",
   "execution_count": 21,
   "id": "8cedbc66",
   "metadata": {
    "id": "8cedbc66"
   },
   "outputs": [],
   "source": [
    "def predict_nn(trained_model, test_input,test_am):\n",
    "    start_time = time.time()\n",
    "    # Switch off dropout\n",
    "    trained_model.eval()\n",
    "\n",
    "    # Pass the required items from the dataset to the model\n",
    "    output = trained_model(input_ids=test_input,attention_mask=test_am)\n",
    "\n",
    "    # the output dictionary contains logits, which are the unnormalised scores for each class for each example:\n",
    "    pred_labs = np.argmax(output[\"logits\"].detach().numpy(), axis=1)\n",
    "    return pred_labs\n"
   ]
  },
  {
   "cell_type": "code",
   "execution_count": 22,
   "id": "37575df3",
   "metadata": {
    "id": "37575df3"
   },
   "outputs": [],
   "source": [
    "def predict_prob(trained_model, test_input,test_am):\n",
    "    start_time = time.time()\n",
    "    # Switch off dropout\n",
    "    trained_model.eval()\n",
    "\n",
    "    # Pass the required items from the dataset to the model\n",
    "    output = trained_model(input_ids=test_input,attention_mask=test_am)\n",
    "\n",
    "    # the output dictionary contains logits, which are the unnormalised scores for each class for each example:\n",
    "    return output"
   ]
  },
  {
   "cell_type": "code",
   "execution_count": null,
   "id": "1e4783d8",
   "metadata": {
    "id": "1e4783d8"
   },
   "outputs": [],
   "source": [
    "predictions = predict_nn(model_new,test_input,test_am)"
   ]
  },
  {
   "cell_type": "code",
   "execution_count": null,
   "id": "1240db90",
   "metadata": {
    "id": "1240db90"
   },
   "outputs": [],
   "source": [
    "acc_tbert = accuracy_score(test_l.detach().numpy(), predictions)\n",
    "print(f'Accuracy = {acc_tbert}')\n",
    "\n",
    "prec = precision_score(test_l.detach().numpy(), predictions, average='macro')\n",
    "print(f'Precision (macro average) = {prec}')\n",
    "\n",
    "rec = recall_score(test_l.detach().numpy(), predictions, average='macro')\n",
    "print(f'Recall (macro average) = {rec}')\n",
    "\n",
    "f1 = f1_score(test_l.detach().numpy(), predictions, average='macro')\n",
    "print(f'F1 score (macro average) = {f1}')\n",
    "print(classification_report(test_l.detach().numpy(), predictions))"
   ]
  },
  {
   "cell_type": "code",
   "execution_count": null,
   "id": "69952358",
   "metadata": {
    "id": "69952358",
    "scrolled": true
   },
   "outputs": [],
   "source": []
  },
  {
   "cell_type": "code",
   "execution_count": null,
   "id": "f46d6fcd",
   "metadata": {
    "id": "f46d6fcd"
   },
   "outputs": [],
   "source": []
  },
  {
   "cell_type": "code",
   "execution_count": null,
   "id": "b158dd60",
   "metadata": {
    "id": "b158dd60",
    "scrolled": true
   },
   "outputs": [],
   "source": []
  },
  {
   "cell_type": "code",
   "execution_count": null,
   "id": "c37a4479",
   "metadata": {
    "colab": {
     "base_uri": "https://localhost:8080/"
    },
    "id": "c37a4479",
    "outputId": "32b67653-ac9f-424e-aa65-c73a8848240f",
    "scrolled": true
   },
   "outputs": [],
   "source": [
    "##Time cost calculation Bert##\n",
    "import tqdm\n",
    "####TinyBert#####\n",
    "time_Bert = []\n",
    "train_bert_ans = []\n",
    "start_time = time.time()\n",
    "print(f'Totally {len(train_set_bert)} samples.')\n",
    "for sample in train_set_bert:\n",
    "    encoded_inputs = tokenizer_pre(sample['text'], padding='max_length',max_length=max_length, truncation=True, return_tensors='pt')\n",
    "    ids_tensor=encoded_inputs['input_ids']\n",
    "    am_tensor=encoded_inputs['attention_mask']\n",
    "    model_new.to('cpu')\n",
    "    predictions = predict_nn(model_new,ids_tensor,am_tensor)\n",
    "    train_bert_ans.append(predictions)\n",
    "    time_Bert.append((time.time()-start_time))\n",
    "    start_time = time.time()\n",
    "print(f'Completes.Cost time: {sum(time_Bert)}')"
   ]
  },
  {
   "cell_type": "code",
   "execution_count": null,
   "id": "45f8d30b",
   "metadata": {
    "colab": {
     "base_uri": "https://localhost:8080/"
    },
    "id": "45f8d30b",
    "outputId": "552477cc-83e4-4a82-aec4-fe2914b64aa3"
   },
   "outputs": [],
   "source": [
    "test_time_Bert = []\n",
    "test_bert_ans = []\n",
    "start_time = time.time()\n",
    "print(f'Totally {len(test_set_bert)} samples.')\n",
    "for sample in test_set_bert:\n",
    "    encoded_inputs = tokenizer_pre(sample['text'], padding='max_length',max_length=max_length, truncation=True, return_tensors='pt')\n",
    "    ids_tensor=encoded_inputs['input_ids']\n",
    "    am_tensor=encoded_inputs['attention_mask']\n",
    "    model_new.to('cpu')\n",
    "    predictions = predict_nn(model_new,ids_tensor,am_tensor)\n",
    "    test_bert_ans.append(predictions)\n",
    "    test_time_Bert.append((time.time()-start_time))\n",
    "    start_time = time.time()\n",
    "print(f'Completes.Cost time: {sum(test_time_Bert)}')"
   ]
  },
  {
   "cell_type": "code",
   "execution_count": null,
   "id": "bd06aeb5",
   "metadata": {
    "colab": {
     "base_uri": "https://localhost:8080/"
    },
    "id": "bd06aeb5",
    "outputId": "495d3cf9-49ea-4ca0-fab7-3459e8950c17",
    "scrolled": true
   },
   "outputs": [],
   "source": [
    "max_depth_list = [4,8,10,20,30,50,75,100,200,300,500]\n",
    "best_depth = 0\n",
    "best_loss = 99999\n",
    "for depth in max_depth_list:\n",
    "    dtr = DecisionTreeRegressor(max_depth=depth, random_state=42)\n",
    "    dtr.fit(token_seq,time_Bert)\n",
    "    time_predict_bert = dtr.predict(test_sequences)\n",
    "    loss = sum(abs(np.array(time_predict_bert - test_time_Bert)**2))\n",
    "    if best_loss>loss:\n",
    "        best_loss = loss\n",
    "        best_depth = depth\n",
    "print(best_depth)\n",
    "dtr = DecisionTreeRegressor(max_depth=best_depth, random_state=42)\n",
    "dtr.fit(token_seq,time_Bert)\n",
    "time_predict_bert = dtr.predict(test_sequences)\n",
    "time_list = pd.DataFrame({'Pre':time_predict_bert,\n",
    "                         'Truth':test_time_Bert})\n",
    "print(sum(time_predict_bert))"
   ]
  },
  {
   "cell_type": "code",
   "execution_count": null,
   "id": "22de9307",
   "metadata": {
    "id": "22de9307"
   },
   "outputs": [],
   "source": [
    "import warnings\n",
    "warnings.filterwarnings('ignore')\n",
    "knn_model = KNeighborsClassifier(8)\n",
    "knn_model.fit(token_seq,train_label)\n",
    "y_pred = knn_model.predict(test_sequences)"
   ]
  },
  {
   "cell_type": "code",
   "execution_count": null,
   "id": "93ba040e",
   "metadata": {
    "colab": {
     "base_uri": "https://localhost:8080/"
    },
    "id": "93ba040e",
    "outputId": "cee584ac-78ba-4a04-c079-c8e08aa2d671"
   },
   "outputs": [],
   "source": [
    "acc_knn = accuracy_score(test_label, y_pred)\n",
    "print(f'Accuracy = {acc_knn}')\n",
    "\n",
    "prec = precision_score(test_label, y_pred, average='macro')\n",
    "print(f'Precision (macro average) = {prec}')\n",
    "\n",
    "rec = recall_score(test_label, y_pred, average='macro')\n",
    "print(f'Recall (macro average) = {rec}')\n",
    "\n",
    "f1 = f1_score(test_label, y_pred, average='macro')\n",
    "print(f'F1 score (macro average) = {f1}')\n",
    "\n",
    "# We can get all of these with a per-class breakdown using classification_report:\n",
    "print(classification_report(test_label, y_pred))"
   ]
  },
  {
   "cell_type": "code",
   "execution_count": null,
   "id": "e386c675",
   "metadata": {
    "colab": {
     "base_uri": "https://localhost:8080/"
    },
    "id": "e386c675",
    "outputId": "b510d48e-8eee-4aa4-fee9-b77eb2a53f21"
   },
   "outputs": [],
   "source": [
    "##Time cost calculation Knn##\n",
    "time_K = []\n",
    "train_ans_knn = []\n",
    "test_ans_knn = []\n",
    "start_time = time.time()\n",
    "print(f'Totally {len(train_text)} samples.')\n",
    "for text_seq in token_seq:\n",
    "    pre_knn = knn_model.predict(np.expand_dims(text_seq,0))\n",
    "    time_K.append(time.time()-start_time)\n",
    "    start_time = time.time()\n",
    "    train_ans_knn.append(pre_knn)\n",
    "print(f'Completes.Cost time: {sum(time_K)}')\n",
    "time_test_K = []\n",
    "start_time = time.time()\n",
    "print(f'Totally {len(test_text)} samples.')\n",
    "for text_seq in test_sequences:\n",
    "    pre_knn = knn_model.predict(np.expand_dims(text_seq,0))\n",
    "    time_test_K.append(time.time()-start_time)\n",
    "    start_time = time.time()\n",
    "    test_ans_knn.append(pre_knn)\n",
    "print(f'Completes.Cost time: {sum(time_test_K)}')"
   ]
  },
  {
   "cell_type": "code",
   "execution_count": null,
   "id": "346b043e",
   "metadata": {
    "colab": {
     "base_uri": "https://localhost:8080/"
    },
    "id": "346b043e",
    "outputId": "34aa4132-a858-4a9a-b300-afdffe1d55fc"
   },
   "outputs": [],
   "source": [
    "best_depth = 0\n",
    "best_loss = 99999\n",
    "for depth in max_depth_list:\n",
    "    dtr_knn = DecisionTreeRegressor(max_depth=depth, random_state=42)\n",
    "    dtr_knn.fit(token_seq,time_K)\n",
    "    time_predict_knn = dtr_knn.predict(test_sequences)\n",
    "    loss = sum(abs(np.array(time_predict_knn - time_test_K)**2))\n",
    "    if best_loss>loss:\n",
    "        best_loss = loss\n",
    "        best_depth = depth\n",
    "print(best_depth)\n",
    "dtr_knn = DecisionTreeRegressor(max_depth=best_depth, random_state=42)\n",
    "dtr_knn.fit(token_seq,time_K)\n",
    "time_predict_knn = dtr_knn.predict(test_sequences)\n",
    "time_list = pd.DataFrame({'Pre':time_predict_knn,\n",
    "                         'Truth':time_test_K})\n",
    "print(sum(time_predict_knn))"
   ]
  },
  {
   "cell_type": "code",
   "execution_count": null,
   "id": "52a02ac1",
   "metadata": {
    "colab": {
     "base_uri": "https://localhost:8080/"
    },
    "id": "52a02ac1",
    "outputId": "694c6d56-f353-46e1-de52-40a77630626f"
   },
   "outputs": [],
   "source": [
    "#####Accuracy Predicator######\n",
    "def acclist(ans,truth):\n",
    "    truth_list = []\n",
    "    for a,b in zip(ans,truth):\n",
    "        if a !=b:\n",
    "            truth_list.append(0)\n",
    "        else:\n",
    "            truth_list.append(1)\n",
    "    return truth_list\n",
    "acclist_knn = acclist(train_ans_knn,train_label)\n",
    "acclist_bert = acclist(train_bert_ans,train_label)\n",
    "acclist_knn_test = acclist(test_ans_knn,test_label)\n",
    "acclist_bert_test = acclist(test_bert_ans,test_label)\n",
    "depth_list = np.linspace(1,20,20,dtype = int)\n",
    "best_depth_knn = 1\n",
    "best_depth_bert = 1\n",
    "acc_knn = 0\n",
    "acc_bert = 0\n",
    "for i in depth_list:\n",
    "    acc_pre_knn = KNeighborsClassifier(i)\n",
    "    acc_pre_bert = KNeighborsClassifier(i)\n",
    "    acc_pre_knn.fit(token_seq,acclist_knn)\n",
    "    acc_pre_bert.fit(token_seq,acclist_bert)\n",
    "    acc_ans_knn = acc_pre_knn.predict_proba(test_sequences)[:,1]\n",
    "    acc_ans_bert = acc_pre_bert.predict_proba(test_sequences)[:,1]\n",
    "    temp_knn = roc_auc_score(acclist_knn_test, acc_ans_knn)\n",
    "    temp_bert = roc_auc_score(acclist_bert_test, acc_ans_bert)\n",
    "    best_depth_knn = (i if temp_knn < acc_knn else best_depth_knn)\n",
    "    acc_knn = temp_knn\n",
    "    best_depth_bert =( i if temp_bert < acc_bert else best_depth_bert)\n",
    "    acc_bert = temp_bert\n",
    "print(best_depth_knn)\n",
    "print(best_depth_bert)"
   ]
  },
  {
   "cell_type": "code",
   "execution_count": null,
   "id": "c02facd6",
   "metadata": {
    "colab": {
     "base_uri": "https://localhost:8080/"
    },
    "id": "c02facd6",
    "outputId": "d3c8db33-8869-4d80-fc69-f609467b22ef"
   },
   "outputs": [],
   "source": [
    "acclist_dtc = acclist(test_dtc_ans,test_label)\n",
    "acclist_dtc_test = acclist(real_dtc_test,test_label_real)\n",
    "for i in depth_list:\n",
    "    acc_pre_dtc = KNeighborsClassifier(i)\n",
    "    acc_pre_dtc.fit(test_sequences,acclist_dtc)\n",
    "    acc_ans_dtc = acc_pre_dtc.predict_proba(test_sequences_real)[:,1]\n",
    "    temp_dtc = roc_auc_score(acclist_dtc_test, acc_ans_dtc)\n",
    "    best_depth_dtc = (i if temp_dtc < acc_dtc else best_depth_dtc)\n",
    "print(best_depth_dtc)\n",
    "acc_pre_dtc = KNeighborsClassifier(best_depth_dtc)\n",
    "acc_pre_dtc.fit(test_sequences,acclist_dtc)\n",
    "acc_ans_dtc = acc_pre_dtc.predict(test_sequences)\n",
    "print(classification_report(acclist_dtc, acc_ans_dtc))\n",
    "acc_ans_dtc = acc_pre_dtc.predict_proba(test_sequences)[:,1]"
   ]
  },
  {
   "cell_type": "code",
   "execution_count": null,
   "id": "8fff0d63",
   "metadata": {
    "colab": {
     "base_uri": "https://localhost:8080/"
    },
    "id": "8fff0d63",
    "outputId": "0a67f627-cab8-403b-f902-3b6ad888a0a3"
   },
   "outputs": [],
   "source": [
    "acc_pre_knn = KNeighborsClassifier(best_depth_knn)\n",
    "acc_pre_bert = KNeighborsClassifier(best_depth_bert)\n",
    "acc_pre_knn.fit(token_seq,acclist_knn)\n",
    "acc_pre_bert.fit(token_seq,acclist_bert)\n",
    "acc_ans_knn = acc_pre_knn.predict(test_sequences)\n",
    "acc_ans_bert = acc_pre_bert.predict(test_sequences)\n",
    "print(classification_report(acclist_knn_test, acc_ans_knn))\n",
    "print(classification_report(acclist_bert_test, acc_ans_bert))"
   ]
  },
  {
   "cell_type": "code",
   "execution_count": null,
   "id": "dbe83758",
   "metadata": {
    "colab": {
     "base_uri": "https://localhost:8080/",
     "height": 363
    },
    "id": "dbe83758",
    "outputId": "6f49ff51-27e1-4e1b-e083-05fa3014e800"
   },
   "outputs": [],
   "source": [
    "####Check area#####\n",
    "check_list_knn = pd.DataFrame({'Pred':test_ans_knn,\n",
    "                              'Truth':test_label,\n",
    "                              'Acc':acclist_knn_test,\n",
    "                              'Acc Pre':acc_ans_knn})\n",
    "check_list_knn.head(10)\n",
    "check_list_bert = pd.DataFrame({'Pred':test_bert_ans,\n",
    "                              'Truth':test_label,\n",
    "                              'Acc':acclist_bert_test,\n",
    "                              'Acc Pre':acc_ans_bert})\n",
    "check_list_bert.head(10)"
   ]
  },
  {
   "cell_type": "code",
   "execution_count": null,
   "id": "847ccd45",
   "metadata": {
    "id": "847ccd45"
   },
   "outputs": [],
   "source": [
    "def utility(accw,acc,costw,cost):\n",
    "    return (acc*accw - cost*costw)"
   ]
  },
  {
   "cell_type": "code",
   "execution_count": null,
   "id": "109a275a",
   "metadata": {
    "id": "109a275a"
   },
   "outputs": [],
   "source": []
  },
  {
   "cell_type": "code",
   "execution_count": null,
   "id": "b1c5bd05",
   "metadata": {
    "colab": {
     "base_uri": "https://localhost:8080/",
     "height": 1000
    },
    "id": "b1c5bd05",
    "outputId": "84529fc1-b855-40d9-bcf8-539f6ad47e0a",
    "scrolled": true
   },
   "outputs": [],
   "source": [
    "accw = 0.1\n",
    "cost_list = np.append(np.linspace(1e-1,1,50),np.linspace(1,8,40))\n",
    "#cost_list = np.append(cost_list,np.linspace(1,10,50))\n",
    "cost_list[0] = 0\n",
    "acc_list = []\n",
    "time_list = []\n",
    "model_list = []\n",
    "F1_list = []\n",
    "for costw in cost_list:\n",
    "    time_total = []\n",
    "    model_select = []\n",
    "    result_pre = []\n",
    "    count = 0\n",
    "    for sample in test_set_bert:\n",
    "        time_knn_use = dtr_knn.predict(np.expand_dims(test_sequences[count],0))\n",
    "        time_bert_use = dtr.predict(np.expand_dims(test_sequences[count],0))\n",
    "        acc_knn = acc_pre_knn.predict_proba(np.expand_dims(test_sequences[count],0))[:, 1]\n",
    "        acc_tbert = acc_pre_bert.predict_proba(np.expand_dims(test_sequences[count],0))[:, 1]\n",
    "        uti_knn = utility(accw,acc_knn,costw,time_knn_use)\n",
    "        uti_bert = utility(accw,acc_tbert,costw,time_bert_use)\n",
    "        start_time= time.time()\n",
    "        if(uti_knn > uti_bert):\n",
    "            result_pre.append(knn_model.predict(np.expand_dims(test_sequences[count],0)))\n",
    "            model_select.append(0)\n",
    "        else:\n",
    "            encoded_inputs = tokenizer_pre(sample['text'], padding='max_length',max_length=max_length, truncation=True, return_tensors='pt')\n",
    "            ids_tensor=encoded_inputs['input_ids']\n",
    "            am_tensor=encoded_inputs['attention_mask']\n",
    "            model_new.to('cpu')\n",
    "            result_pre.append(predict_nn(model_new,ids_tensor,am_tensor))\n",
    "            model_select.append(1)\n",
    "        time_total.append(time.time()-start_time)\n",
    "        count = count+1\n",
    "    acc = accuracy_score(test_label, result_pre)\n",
    "    acc_list.append(acc)\n",
    "    F1_list.append(f1_score(test_label, result_pre, average='macro'))\n",
    "    time_list.append(sum(time_total))\n",
    "    model_list.append(sum(model_select))\n",
    "acc_time = pd.DataFrame({'Cost':cost_list,\n",
    "                        'Time':time_list,\n",
    "                        'Acc':acc_list,\n",
    "                         'F1':F1_list,\n",
    "                        'Model':model_list})\n",
    "acc_time.head(50)"
   ]
  },
  {
   "cell_type": "code",
   "execution_count": null,
   "id": "25ae4543",
   "metadata": {
    "colab": {
     "base_uri": "https://localhost:8080/",
     "height": 423
    },
    "id": "25ae4543",
    "outputId": "c73c5512-0fe3-493d-fbfd-297d080486f0",
    "scrolled": true
   },
   "outputs": [],
   "source": [
    "#acc_time.head(len(cost_list))\n",
    "acc_time.head(150)"
   ]
  },
  {
   "cell_type": "code",
   "execution_count": null,
   "id": "eba6c576",
   "metadata": {
    "colab": {
     "base_uri": "https://localhost:8080/"
    },
    "id": "eba6c576",
    "outputId": "45e0e118-91ac-444a-e181-deec3ab99a55"
   },
   "outputs": [],
   "source": [
    "uni_time = []\n",
    "uni_acc = []\n",
    "uni_F1 = []\n",
    "uni_cost = []\n",
    "uni_model = []\n",
    "for acc in acc_list:\n",
    "    if acc not in uni_acc:\n",
    "        uni_acc.append(acc)\n",
    "for acc in uni_acc:\n",
    "    temp_time = acc_time[acc_time['Acc'] == acc]['Time']\n",
    "    temp_F1 = acc_time[acc_time['Acc'] == acc]['F1']\n",
    "    uni_time.append(min(temp_time))\n",
    "    uni_F1.append(np.mean(temp_F1))\n",
    "    uni_cost.append(acc_time[acc_time['Time'] == max(temp_time)]['Cost'])\n",
    "for mintime in uni_time:\n",
    "    uni_model.append(acc_time[acc_time['Time'] == mintime]['Model'])\n",
    "print(uni_acc)"
   ]
  },
  {
   "cell_type": "code",
   "execution_count": null,
   "id": "e1e8129e",
   "metadata": {
    "colab": {
     "base_uri": "https://localhost:8080/",
     "height": 447
    },
    "id": "e1e8129e",
    "outputId": "c601e679-63b6-488c-8617-60509ca096fc"
   },
   "outputs": [],
   "source": [
    "import matplotlib.pyplot as plt\n",
    "plt.plot(uni_time,uni_acc)\n",
    "plt.legend"
   ]
  },
  {
   "cell_type": "code",
   "execution_count": null,
   "id": "UFa0-Hc1SnXO",
   "metadata": {
    "colab": {
     "base_uri": "https://localhost:8080/",
     "height": 645
    },
    "id": "UFa0-Hc1SnXO",
    "outputId": "b3ebe323-4865-4d03-b8af-67cab8ad60e2"
   },
   "outputs": [],
   "source": [
    "uni_frame = pd.DataFrame({'Time':uni_time,\n",
    "              'Acc':uni_acc,\n",
    "              'Selection':uni_model\n",
    "})\n",
    "uni_frame.head(30)"
   ]
  },
  {
   "cell_type": "code",
   "execution_count": null,
   "id": "0431eabe",
   "metadata": {
    "colab": {
     "base_uri": "https://localhost:8080/",
     "height": 1000
    },
    "id": "0431eabe",
    "outputId": "62c57115-ae0a-44d6-da65-795e2eb6cea5",
    "scrolled": true
   },
   "outputs": [],
   "source": [
    "acc_list = []\n",
    "time_list = []\n",
    "F1_list = []\n",
    "model_list = []\n",
    "for costw in cost_list:\n",
    "    time_total = []\n",
    "    model_select = []\n",
    "    result_pre = []\n",
    "    count = 0\n",
    "    for sample in test_set_bert_real:\n",
    "        time_knn_use = dtr_knn.predict(np.expand_dims(test_sequences_real[count],0))\n",
    "        time_bert_use = dtr.predict(np.expand_dims(test_sequences_real[count],0))\n",
    "        acc_knn = acc_pre_knn.predict_proba(np.expand_dims(test_sequences_real[count],0))[:, 1]\n",
    "        acc_tbert = acc_pre_bert.predict_proba(np.expand_dims(test_sequences_real[count],0))[:, 1]\n",
    "        uti_knn = utility(accw,acc_knn,costw,time_knn_use)\n",
    "        uti_bert = utility(accw,acc_tbert,costw,time_bert_use)\n",
    "        start_time= time.time()\n",
    "        if(uti_knn > uti_bert):\n",
    "            result_pre.append(knn_model.predict(np.expand_dims(test_sequences_real[count],0)))\n",
    "            model_select.append(0)\n",
    "        else:\n",
    "            encoded_inputs = tokenizer_pre(sample['text'], padding='max_length',max_length=max_length, truncation=True, return_tensors='pt')\n",
    "            ids_tensor=encoded_inputs['input_ids']\n",
    "            am_tensor=encoded_inputs['attention_mask']\n",
    "            model_new.to('cpu')\n",
    "            result_pre.append(predict_nn(model_new,ids_tensor,am_tensor))\n",
    "            model_select.append(1)\n",
    "        time_total.append(time.time()-start_time)\n",
    "        count = count+1\n",
    "    acc = accuracy_score(test_label_real, result_pre)\n",
    "    acc_list.append(acc)\n",
    "    F1_list.append(f1_score(test_label_real, result_pre, average='macro'))\n",
    "    time_list.append(sum(time_total))\n",
    "    model_list.append(sum(model_select))\n",
    "acc_time = pd.DataFrame({'Cost':cost_list,\n",
    "                        'Time':time_list,\n",
    "                        'Acc':acc_list,\n",
    "                         'F1':F1_list,\n",
    "                        'Model':model_list})\n",
    "acc_time.head(50)"
   ]
  },
  {
   "cell_type": "code",
   "execution_count": null,
   "id": "e9d8e1af",
   "metadata": {
    "colab": {
     "base_uri": "https://localhost:8080/"
    },
    "id": "e9d8e1af",
    "outputId": "2b5ecafa-58b4-43ed-92b8-9a63d7893bf4"
   },
   "outputs": [],
   "source": [
    "print(len(test_label_real))"
   ]
  },
  {
   "cell_type": "code",
   "execution_count": null,
   "id": "6c2aa396",
   "metadata": {
    "colab": {
     "base_uri": "https://localhost:8080/",
     "height": 488
    },
    "id": "6c2aa396",
    "outputId": "26130ae1-b4b5-4ca5-a565-aa546e07bebc"
   },
   "outputs": [],
   "source": [
    "uni_time = []\n",
    "uni_acc = []\n",
    "uni_F1 = []\n",
    "uni_cost = []\n",
    "uni_model = []\n",
    "for acc in acc_list:\n",
    "    if acc not in uni_acc:\n",
    "        uni_acc.append(acc)\n",
    "for acc in uni_acc:\n",
    "    temp_time = acc_time[acc_time['Acc'] == acc]['Time']\n",
    "    temp_F1 = acc_time[acc_time['Acc'] == acc]['F1']\n",
    "    uni_time.append(min(temp_time))\n",
    "    uni_F1.append(np.mean(temp_F1))\n",
    "    uni_cost.append(acc_time[acc_time['Time'] == max(temp_time)]['Cost'])\n",
    "for mintime in uni_time:\n",
    "    uni_model.append(acc_time[acc_time['Time'] == mintime]['Model'])\n",
    "print(uni_acc)\n",
    "plt.plot(uni_time,uni_acc)\n",
    "plt.show"
   ]
  },
  {
   "cell_type": "code",
   "execution_count": null,
   "id": "gjscofD5Twfp",
   "metadata": {
    "colab": {
     "base_uri": "https://localhost:8080/",
     "height": 645
    },
    "id": "gjscofD5Twfp",
    "outputId": "9be89610-f90d-4e49-fd4c-0d6f9fb31fd1"
   },
   "outputs": [],
   "source": [
    "uni_frame = pd.DataFrame({'Time':uni_time,\n",
    "              'Acc':uni_acc,\n",
    "})\n",
    "uni_frame.head(30)"
   ]
  },
  {
   "cell_type": "code",
   "execution_count": null,
   "id": "_hB5Xak4V1XO",
   "metadata": {
    "colab": {
     "base_uri": "https://localhost:8080/",
     "height": 450
    },
    "id": "_hB5Xak4V1XO",
    "outputId": "80cd7e09-4cb1-4f73-ac7f-f881bb2e9a77"
   },
   "outputs": [],
   "source": [
    "plt.plot(time_list,acc_list)\n",
    "plt.show"
   ]
  },
  {
   "cell_type": "code",
   "execution_count": null,
   "id": "4d11863a",
   "metadata": {
    "colab": {
     "base_uri": "https://localhost:8080/"
    },
    "id": "4d11863a",
    "outputId": "b97260e3-c8ed-49c8-f176-9c14341f6df3"
   },
   "outputs": [],
   "source": [
    "####Naive Bayes####\n",
    "from sklearn.model_selection import GridSearchCV\n",
    "MNB = MultinomialNB()\n",
    "MNB.fit(token_seq,train_label)\n",
    "y_pred = MNB.predict(test_sequences)\n",
    "acc_nb = accuracy_score(test_label, y_pred)\n",
    "print(f'Accuracy = {acc_nb}')\n",
    "\n",
    "prec = precision_score(test_label, y_pred, average='macro')\n",
    "print(f'Precision (macro average) = {prec}')\n",
    "\n",
    "rec = recall_score(test_label, y_pred, average='macro')\n",
    "print(f'Recall (macro average) = {rec}')\n",
    "\n",
    "f1 = f1_score(test_label, y_pred, average='macro')\n",
    "print(f'F1 score (macro average) = {f1}')\n",
    "\n",
    "# We can get all of these with a per-class breakdown using classification_report:\n",
    "print(classification_report(test_label, y_pred))"
   ]
  },
  {
   "cell_type": "code",
   "execution_count": null,
   "id": "KCItmJIIertG",
   "metadata": {
    "colab": {
     "base_uri": "https://localhost:8080/",
     "height": 472
    },
    "id": "KCItmJIIertG",
    "outputId": "158c7553-eb2f-4701-ab06-1523525ba839"
   },
   "outputs": [],
   "source": [
    "pre_MNB_prob = MNB.predict_proba(test_sequences)[:,1]\n",
    "fpr, tpr, _ = roc_curve(test_label, pre_MNB_prob)\n",
    "roc_auc = roc_auc_score(test_label, pre_MNB_prob)\n",
    "plt.figure()\n",
    "plt.plot(fpr, tpr, color='darkorange', lw=2, label=f'ROC curve (AUC = {roc_auc:.2f})')\n",
    "plt.plot([0, 1], [0, 1], color='navy', lw=2, linestyle='--')\n",
    "plt.xlim([0.0, 1.0])\n",
    "plt.ylim([0.0, 1.05])\n",
    "plt.xlabel('False Positive Rate')\n",
    "plt.ylabel('True Positive Rate')\n",
    "plt.title('Receiver Operating Characteristic (ROC)')\n",
    "plt.legend(loc='lower right')\n",
    "plt.show()"
   ]
  },
  {
   "cell_type": "code",
   "execution_count": null,
   "id": "4b62aeb1",
   "metadata": {
    "colab": {
     "base_uri": "https://localhost:8080/"
    },
    "id": "4b62aeb1",
    "outputId": "cb29774d-0caf-431e-c9df-ae8da559a065"
   },
   "outputs": [],
   "source": [
    "lr = LogisticRegression(max_iter=1000)\n",
    "lr.fit(token_seq,train_label)\n",
    "y_pred = lr.predict(test_sequences)\n",
    "acc_lr = accuracy_score(test_label, y_pred)\n",
    "print(f'Accuracy = {acc_lr}')\n",
    "\n",
    "prec = precision_score(test_label, y_pred, average='macro')\n",
    "print(f'Precision (macro average) = {prec}')\n",
    "\n",
    "rec = recall_score(test_label, y_pred, average='macro')\n",
    "print(f'Recall (macro average) = {rec}')\n",
    "\n",
    "f1 = f1_score(test_label, y_pred, average='macro')\n",
    "print(f'F1 score (macro average) = {f1}')\n",
    "\n",
    "# We can get all of these with a per-class breakdown using classification_report:\n",
    "print(classification_report(test_label, y_pred))"
   ]
  },
  {
   "cell_type": "code",
   "execution_count": null,
   "id": "WMkR5nj2fL6Y",
   "metadata": {
    "colab": {
     "base_uri": "https://localhost:8080/"
    },
    "id": "WMkR5nj2fL6Y",
    "outputId": "495180a8-116c-406e-cb2e-4acbc02989ed"
   },
   "outputs": [],
   "source": [
    "y_pred = lr.predict(test_sequences_real)\n",
    "acc_lr = accuracy_score(test_label_real, y_pred)\n",
    "print(f'Accuracy = {acc_lr}')\n",
    "\n",
    "prec = precision_score(test_label_real, y_pred, average='macro')\n",
    "print(f'Precision (macro average) = {prec}')\n",
    "\n",
    "rec = recall_score(test_label_real, y_pred, average='macro')\n",
    "print(f'Recall (macro average) = {rec}')\n",
    "\n",
    "f1 = f1_score(test_label_real, y_pred, average='macro')\n",
    "print(f'F1 score (macro average) = {f1}')\n",
    "\n",
    "# We can get all of these with a per-class breakdown using classification_report:\n",
    "print(classification_report(test_label_real, y_pred))"
   ]
  },
  {
   "cell_type": "code",
   "execution_count": null,
   "id": "ESqT7dddd30W",
   "metadata": {
    "colab": {
     "base_uri": "https://localhost:8080/",
     "height": 472
    },
    "id": "ESqT7dddd30W",
    "outputId": "9c45559d-b5a2-41bd-ef6d-5224d4122e18"
   },
   "outputs": [],
   "source": [
    "pre_lr_prob = lr.predict_proba(test_sequences_real)[:,1]\n",
    "fpr, tpr, _ = roc_curve(test_label_real, pre_lr_prob)\n",
    "roc_auc = roc_auc_score(test_label_real, pre_lr_prob)\n",
    "plt.figure()\n",
    "plt.plot(fpr, tpr, color='darkorange', lw=2, label=f'ROC curve (AUC = {roc_auc:.2f})')\n",
    "plt.plot([0, 1], [0, 1], color='navy', lw=2, linestyle='--')\n",
    "plt.xlim([0.0, 1.0])\n",
    "plt.ylim([0.0, 1.05])\n",
    "plt.xlabel('False Positive Rate')\n",
    "plt.ylabel('True Positive Rate')\n",
    "plt.title('Receiver Operating Characteristic (ROC)')\n",
    "plt.legend(loc='lower right')\n",
    "plt.show()"
   ]
  },
  {
   "cell_type": "code",
   "execution_count": null,
   "id": "92f84663",
   "metadata": {
    "colab": {
     "base_uri": "https://localhost:8080/"
    },
    "id": "92f84663",
    "outputId": "c72fbbaf-2d50-4788-b48c-83fd4c59ccc7"
   },
   "outputs": [],
   "source": [
    "from sklearn.feature_extraction.text import TfidfVectorizer\n",
    "tfidf_vectorizer = TfidfVectorizer()\n",
    "tf_train = tfidf_vectorizer.fit_transform(train_text)\n",
    "tf_test = tfidf_vectorizer.transform(test_text)\n",
    "MNB = MultinomialNB()\n",
    "MNB.fit(tf_train,train_label)\n",
    "y_pred = MNB.predict(tf_test)\n",
    "acc_nb = accuracy_score(test_label, y_pred)\n",
    "print(f'Accuracy = {acc_nb}')\n",
    "\n",
    "prec = precision_score(test_label, y_pred, average='macro')\n",
    "print(f'Precision (macro average) = {prec}')\n",
    "\n",
    "rec = recall_score(test_label, y_pred, average='macro')\n",
    "print(f'Recall (macro average) = {rec}')\n",
    "\n",
    "f1 = f1_score(test_label, y_pred, average='macro')\n",
    "print(f'F1 score (macro average) = {f1}')\n",
    "\n",
    "# We can get all of these with a per-class breakdown using classification_report:\n",
    "print(classification_report(test_label, y_pred))"
   ]
  },
  {
   "cell_type": "code",
   "execution_count": null,
   "id": "eCN22icJeDo7",
   "metadata": {
    "id": "eCN22icJeDo7"
   },
   "outputs": [],
   "source": []
  },
  {
   "cell_type": "code",
   "execution_count": null,
   "id": "hMXm40RDODRk",
   "metadata": {
    "colab": {
     "base_uri": "https://localhost:8080/"
    },
    "id": "hMXm40RDODRk",
    "outputId": "dfa613e4-4730-4705-bb35-663752e6db81"
   },
   "outputs": [],
   "source": [
    "KNB = KNeighborsClassifier(8)\n",
    "KNB.fit(tf_train,train_label)\n",
    "y_pred = KNB.predict(tf_test)\n",
    "acc_Knb = accuracy_score(test_label, y_pred)\n",
    "print(f'Accuracy = {acc_Knb}')\n",
    "\n",
    "prec = precision_score(test_label, y_pred, average='macro')\n",
    "print(f'Precision (macro average) = {prec}')\n",
    "\n",
    "rec = recall_score(test_label, y_pred, average='macro')\n",
    "print(f'Recall (macro average) = {rec}')\n",
    "\n",
    "f1 = f1_score(test_label, y_pred, average='macro')\n",
    "print(f'F1 score (macro average) = {f1}')\n",
    "\n",
    "# We can get all of these with a per-class breakdown using classification_report:\n",
    "print(classification_report(test_label, y_pred))"
   ]
  },
  {
   "cell_type": "code",
   "execution_count": null,
   "id": "44985594",
   "metadata": {
    "id": "44985594"
   },
   "outputs": [],
   "source": []
  },
  {
   "cell_type": "code",
   "execution_count": null,
   "id": "e68528ed",
   "metadata": {
    "id": "e68528ed"
   },
   "outputs": [],
   "source": []
  },
  {
   "cell_type": "code",
   "execution_count": null,
   "id": "41466f8d",
   "metadata": {
    "colab": {
     "base_uri": "https://localhost:8080/",
     "height": 472
    },
    "id": "41466f8d",
    "outputId": "c5b99bec-5c7c-4b28-ab24-c6368a18950a",
    "scrolled": true
   },
   "outputs": [],
   "source": [
    "pre_knn_prob = knn_model.predict_proba(test_sequences)[:,1]\n",
    "fpr, tpr, _ = roc_curve(test_label, pre_knn_prob)\n",
    "roc_auc = roc_auc_score(test_label, pre_knn_prob)\n",
    "plt.figure()\n",
    "plt.plot(fpr, tpr, color='darkorange', lw=2, label=f'ROC curve (AUC = {roc_auc:.2f})')\n",
    "plt.plot([0, 1], [0, 1], color='navy', lw=2, linestyle='--')\n",
    "plt.xlim([0.0, 1.0])\n",
    "plt.ylim([0.0, 1.05])\n",
    "plt.xlabel('False Positive Rate')\n",
    "plt.ylabel('True Positive Rate')\n",
    "plt.title('Receiver Operating Characteristic (ROC)')\n",
    "plt.legend(loc='lower right')\n",
    "plt.show()"
   ]
  },
  {
   "cell_type": "code",
   "execution_count": null,
   "id": "70758606",
   "metadata": {
    "id": "70758606",
    "scrolled": true
   },
   "outputs": [],
   "source": [
    "pre_bert_prob = predict_prob(model_new,test_input,test_am)[\"logits\"].detach().numpy()"
   ]
  },
  {
   "cell_type": "code",
   "execution_count": null,
   "id": "e441ac59",
   "metadata": {
    "colab": {
     "base_uri": "https://localhost:8080/",
     "height": 472
    },
    "id": "e441ac59",
    "outputId": "2eb0c71c-fc11-47fb-d56a-011b05c362ae",
    "scrolled": true
   },
   "outputs": [],
   "source": [
    "pre_bert_probs = []\n",
    "for i in pre_bert_prob:\n",
    "    pre_bert_probs.append(i[1])\n",
    "fpr, tpr, _ = roc_curve(test_label, pre_bert_probs)\n",
    "roc_auc = roc_auc_score(test_label, pre_bert_probs)\n",
    "plt.figure()\n",
    "plt.plot(fpr, tpr, color='darkorange', lw=2, label=f'ROC curve (AUC = {roc_auc:.2f})')\n",
    "plt.plot([0, 1], [0, 1], color='navy', lw=2, linestyle='--')\n",
    "plt.xlim([0.0, 1.0])\n",
    "plt.ylim([0.0, 1.05])\n",
    "plt.xlabel('False Positive Rate')\n",
    "plt.ylabel('True Positive Rate')\n",
    "plt.title('Receiver Operating Characteristic (ROC)')\n",
    "plt.legend(loc='lower right')\n",
    "plt.show()"
   ]
  },
  {
   "cell_type": "code",
   "execution_count": null,
   "id": "5c253fd1",
   "metadata": {
    "colab": {
     "base_uri": "https://localhost:8080/"
    },
    "id": "5c253fd1",
    "outputId": "91e3cbfd-e554-4d07-faf1-9dec60fa53b9"
   },
   "outputs": [],
   "source": [
    "####Time cost prediction Dtc####\n",
    "time_dtc = []\n",
    "time_test_dtc = []\n",
    "train_dtc_ans = []\n",
    "test_dtc_ans = []\n",
    "for text in token_seq:\n",
    "    start_time = time.time()\n",
    "    train_dtc_ans.append(dtc.predict(np.expand_dims(text,0)))\n",
    "    time_dtc.append(time.time() - start_time)\n",
    "print(f'Completes processing {len(token_seq)} samples.Cost time: {sum(time_dtc)}')\n",
    "for text in test_sequences:\n",
    "    start_time = time.time()\n",
    "    test_dtc_ans.append(dtc.predict(np.expand_dims(text,0)))\n",
    "    time_test_dtc.append(time.time() - start_time)\n",
    "print(f'Completes processing {len(test_sequences)} samples.Cost time: {sum(time_test_dtc)}')"
   ]
  },
  {
   "cell_type": "code",
   "execution_count": null,
   "id": "0578c86f",
   "metadata": {
    "colab": {
     "base_uri": "https://localhost:8080/",
     "height": 397
    },
    "id": "0578c86f",
    "outputId": "261c75be-c52e-4c39-86fc-332deba07617",
    "scrolled": false
   },
   "outputs": [],
   "source": [
    "max_depth_list = [4,8,10,20,30,50,75,100,200,300,500]\n",
    "best_depth = 0\n",
    "best_loss = 99999\n",
    "for depth in max_depth_list:\n",
    "    dtr_dtc = DecisionTreeRegressor(max_depth=depth, random_state=42)\n",
    "    dtr_dtc.fit(token_seq,time_dtc)\n",
    "    time_predict_dtc = dtr_dtc.predict(test_sequences)\n",
    "    loss = sum(abs(np.array(time_predict_dtc - test_time_Bert)**2))\n",
    "    if best_loss>loss:\n",
    "        best_loss = loss\n",
    "        best_depth = depth\n",
    "print(best_depth)\n",
    "dtr_dtc = DecisionTreeRegressor(max_depth=best_depth, random_state=42)\n",
    "dtr_dtc.fit(token_seq,time_dtc)\n",
    "time_predict_dtc = dtr_dtc.predict(test_sequences)\n",
    "time_list = pd.DataFrame({'Pre':time_predict_dtc,\n",
    "                         'Truth':time_test_dtc})\n",
    "print(sum(time_predict_dtc))\n",
    "time_list.head(10)"
   ]
  },
  {
   "cell_type": "code",
   "execution_count": null,
   "id": "16384ebd",
   "metadata": {
    "colab": {
     "base_uri": "https://localhost:8080/",
     "height": 1000
    },
    "id": "16384ebd",
    "outputId": "659a4707-be5d-4fce-d92a-3931611e99ac"
   },
   "outputs": [],
   "source": [
    "accw = 0.1\n",
    "cost_list = np.append(np.linspace(1e-1,1,50),np.linspace(1,10,50))\n",
    "#cost_list = np.append(cost_list,np.linspace(1,10,50))\n",
    "cost_list[0] = 0\n",
    "acc_list = []\n",
    "time_list = []\n",
    "model_list = []\n",
    "F1_list = []\n",
    "for costw in cost_list:\n",
    "    time_total = []\n",
    "    model_select = []\n",
    "    result_pre = []\n",
    "    count = 0\n",
    "    for sample in test_set_bert:\n",
    "        time_dtc_use = dtr_dtc.predict(np.expand_dims(test_sequences[count],0))\n",
    "        time_bert_use = dtr.predict(np.expand_dims(test_sequences[count],0))\n",
    "        acc_dtc = acc_pre_dtc.predict_proba(np.expand_dims(test_sequences[count],0))[:, 1]\n",
    "        acc_tbert = acc_pre_bert.predict_proba(np.expand_dims(test_sequences[count],0))[:, 1]\n",
    "        uti_dtc = utility(accw,acc_dtc,costw,time_dtc_use)\n",
    "        uti_bert = utility(accw,acc_tbert,costw,time_bert_use)\n",
    "        start_time= time.time()\n",
    "        if(uti_dtc > uti_bert):\n",
    "            result_pre.append(dtc.predict(np.expand_dims(test_sequences[count],0)))\n",
    "            model_select.append(0)\n",
    "        else:\n",
    "            encoded_inputs = tokenizer_pre(sample['text'], padding='max_length',max_length=max_length, truncation=True, return_tensors='pt')\n",
    "            ids_tensor=encoded_inputs['input_ids']\n",
    "            am_tensor=encoded_inputs['attention_mask']\n",
    "            model_new.to('cpu')\n",
    "            result_pre.append(predict_nn(model_new,ids_tensor,am_tensor))\n",
    "            model_select.append(1)\n",
    "        time_total.append(time.time()-start_time)\n",
    "        count = count+1\n",
    "    acc = accuracy_score(test_label, result_pre)\n",
    "    acc_list.append(acc)\n",
    "    F1_list.append(f1_score(test_label, result_pre, average='macro'))\n",
    "    time_list.append(sum(time_total))\n",
    "    model_list.append(sum(model_select))\n",
    "acc_time = pd.DataFrame({'Cost':cost_list,\n",
    "                        'Time':time_list,\n",
    "                        'Acc':acc_list,\n",
    "                         'F1':F1_list,\n",
    "                        'Model':model_list})\n",
    "acc_time.head(50)"
   ]
  },
  {
   "cell_type": "code",
   "execution_count": null,
   "id": "74a04d70",
   "metadata": {
    "colab": {
     "base_uri": "https://localhost:8080/",
     "height": 423
    },
    "id": "74a04d70",
    "outputId": "12945b21-1ce5-4b39-f39b-57e4ff6afc0d"
   },
   "outputs": [],
   "source": [
    "acc_time.head(100)"
   ]
  },
  {
   "cell_type": "code",
   "execution_count": null,
   "id": "6d9ed48c",
   "metadata": {
    "colab": {
     "base_uri": "https://localhost:8080/",
     "height": 485
    },
    "id": "6d9ed48c",
    "outputId": "673fe306-bdc7-4818-9a14-892c67942f52"
   },
   "outputs": [],
   "source": [
    "uni_time = []\n",
    "uni_acc = []\n",
    "uni_F1 = []\n",
    "uni_cost = []\n",
    "uni_model = []\n",
    "for acc in acc_list:\n",
    "    if acc not in uni_acc:\n",
    "        uni_acc.append(acc)\n",
    "for acc in uni_acc:\n",
    "    temp_time = acc_time[acc_time['Acc'] == acc]['Time']\n",
    "    temp_F1 = acc_time[acc_time['Acc'] == acc]['F1']\n",
    "    uni_time.append(min(temp_time))\n",
    "    uni_F1.append(np.mean(temp_F1))\n",
    "    uni_cost.append(acc_time[acc_time['Time'] == max(temp_time)]['Cost'])\n",
    "for mintime in uni_time:\n",
    "    uni_model.append(acc_time[acc_time['Time'] == mintime]['Model'])\n",
    "print(uni_acc)\n",
    "plt.plot(uni_time,uni_acc)\n",
    "plt.show"
   ]
  },
  {
   "cell_type": "code",
   "execution_count": null,
   "id": "7a518c0d",
   "metadata": {
    "colab": {
     "base_uri": "https://localhost:8080/",
     "height": 1000
    },
    "id": "7a518c0d",
    "outputId": "b59258b1-b3b3-4aef-b22e-d9d97dae57bf",
    "scrolled": true
   },
   "outputs": [],
   "source": [
    "acc_list = []\n",
    "time_list = []\n",
    "F1_list = []\n",
    "model_list = []\n",
    "for costw in cost_list:\n",
    "    time_total = []\n",
    "    model_select = []\n",
    "    result_pre = []\n",
    "    count = 0\n",
    "    for sample in test_set_bert_real:\n",
    "        time_dtc_use = dtr_dtc.predict(np.expand_dims(test_sequences_real[count],0))\n",
    "        time_bert_use = dtr.predict(np.expand_dims(test_sequences_real[count],0))\n",
    "        acc_dtc = acc_pre_dtc.predict_proba(np.expand_dims(test_sequences_real[count],0))[:, 1]\n",
    "        acc_tbert = acc_pre_bert.predict_proba(np.expand_dims(test_sequences_real[count],0))[:, 1]\n",
    "        uti_dtc = utility(accw,acc_dtc,costw,time_dtc_use)\n",
    "        uti_bert = utility(accw,acc_tbert,costw,time_bert_use)\n",
    "        start_time= time.time()\n",
    "        if(uti_dtc > uti_bert):\n",
    "            result_pre.append(dtc.predict(np.expand_dims(test_sequences_real[count],0)))\n",
    "            model_select.append(0)\n",
    "        else:\n",
    "            encoded_inputs = tokenizer_pre(sample['text'], padding='max_length',max_length=max_length, truncation=True, return_tensors='pt')\n",
    "            ids_tensor=encoded_inputs['input_ids']\n",
    "            am_tensor=encoded_inputs['attention_mask']\n",
    "            model_new.to('cpu')\n",
    "            result_pre.append(predict_nn(model_new,ids_tensor,am_tensor))\n",
    "            model_select.append(1)\n",
    "        time_total.append(time.time()-start_time)\n",
    "        count = count+1\n",
    "    acc = accuracy_score(test_label_real, result_pre)\n",
    "    acc_list.append(acc)\n",
    "    F1_list.append(f1_score(test_label_real, result_pre, average='macro'))\n",
    "    time_list.append(sum(time_total))\n",
    "    model_list.append(sum(model_select))\n",
    "acc_time = pd.DataFrame({'Cost':cost_list,\n",
    "                        'Time':time_list,\n",
    "                        'Acc':acc_list,\n",
    "                         'F1':F1_list,\n",
    "                        'Model':model_list})\n",
    "acc_time.head(50)"
   ]
  },
  {
   "cell_type": "code",
   "execution_count": null,
   "id": "UvK-64VK1ga4",
   "metadata": {
    "colab": {
     "base_uri": "https://localhost:8080/",
     "height": 423
    },
    "id": "UvK-64VK1ga4",
    "outputId": "15cc6d82-acb4-481f-c30e-a724ae138df2"
   },
   "outputs": [],
   "source": [
    "acc_time.head(100)"
   ]
  },
  {
   "cell_type": "code",
   "execution_count": null,
   "id": "0e876259",
   "metadata": {
    "colab": {
     "base_uri": "https://localhost:8080/",
     "height": 485
    },
    "id": "0e876259",
    "outputId": "89b422bd-4988-4774-bab7-6d7ca4a6a2f7"
   },
   "outputs": [],
   "source": [
    "uni_time = []\n",
    "uni_acc = []\n",
    "uni_F1 = []\n",
    "uni_cost = []\n",
    "uni_model = []\n",
    "for acc in acc_list:\n",
    "    if acc not in uni_acc:\n",
    "        uni_acc.append(acc)\n",
    "for acc in uni_acc:\n",
    "    temp_time = acc_time[acc_time['Acc'] == acc]['Time']\n",
    "    temp_F1 = acc_time[acc_time['Acc'] == acc]['F1']\n",
    "    uni_time.append(min(temp_time))\n",
    "    uni_F1.append(np.mean(temp_F1))\n",
    "    uni_cost.append(acc_time[acc_time['Time'] == max(temp_time)]['Cost'])\n",
    "for mintime in uni_time:\n",
    "    uni_model.append(acc_time[acc_time['Time'] == mintime]['Model'])\n",
    "print(uni_acc)\n",
    "plt.plot(uni_model,uni_acc)\n",
    "plt.show"
   ]
  },
  {
   "cell_type": "code",
   "execution_count": null,
   "id": "0247e748",
   "metadata": {
    "colab": {
     "base_uri": "https://localhost:8080/",
     "height": 1000
    },
    "id": "0247e748",
    "outputId": "d862e63c-ad89-42d6-e874-aa6d684b90f0"
   },
   "outputs": [],
   "source": [
    "acc_list = []\n",
    "time_list = []\n",
    "F1_list = []\n",
    "model_list = []\n",
    "for costw in cost_list:\n",
    "    time_total = []\n",
    "    model_select = []\n",
    "    result_pre = []\n",
    "    count = 0\n",
    "    for sample in test_set_bert_real:\n",
    "        time_knn_use = dtr_knn.predict(np.expand_dims(test_sequences_real[count],0))\n",
    "        time_dtc_use = dtr_dtc.predict(np.expand_dims(test_sequences_real[count],0))\n",
    "        acc_knn = acc_pre_knn.predict_proba(np.expand_dims(test_sequences_real[count],0))[:, 1]\n",
    "        acc_dtc = acc_pre_dtc.predict_proba(np.expand_dims(test_sequences_real[count],0))[:, 1]\n",
    "        uti_knn = utility(accw,acc_knn,costw,time_knn_use)\n",
    "        uti_dtc = utility(accw,acc_dtc,costw,time_dtc_use)\n",
    "        start_time= time.time()\n",
    "        if(uti_knn > uti_dtc):\n",
    "            result_pre.append(knn_model.predict(np.expand_dims(test_sequences_real[count],0)))\n",
    "            model_select.append(0)\n",
    "        else:\n",
    "            result_pre.append(dtc.predict(np.expand_dims(test_sequences_real[count],0)))\n",
    "            model_select.append(1)\n",
    "        time_total.append(time.time()-start_time)\n",
    "        count = count+1\n",
    "    acc = accuracy_score(test_label_real, result_pre)\n",
    "    acc_list.append(acc)\n",
    "    F1_list.append(f1_score(test_label_real, result_pre, average='macro'))\n",
    "    time_list.append(sum(time_total))\n",
    "    model_list.append(sum(model_select))\n",
    "acc_time = pd.DataFrame({'Cost':cost_list,\n",
    "                        'Time':time_list,\n",
    "                        'Acc':acc_list,\n",
    "                         'F1':F1_list,\n",
    "                        'Model':model_list})\n",
    "acc_time.head(50)"
   ]
  },
  {
   "cell_type": "code",
   "execution_count": null,
   "id": "abdd489d",
   "metadata": {
    "colab": {
     "base_uri": "https://localhost:8080/",
     "height": 485
    },
    "id": "abdd489d",
    "outputId": "777a3c02-73dc-49f1-e238-d1e1f06723b6"
   },
   "outputs": [],
   "source": [
    "uni_time = []\n",
    "uni_acc = []\n",
    "uni_F1 = []\n",
    "uni_cost = []\n",
    "uni_model = []\n",
    "for acc in acc_list:\n",
    "    if acc not in uni_acc:\n",
    "        uni_acc.append(acc)\n",
    "for acc in uni_acc:\n",
    "    temp_time = acc_time[acc_time['Acc'] == acc]['Time']\n",
    "    temp_F1 = acc_time[acc_time['Acc'] == acc]['F1']\n",
    "    uni_time.append(min(temp_time))\n",
    "    uni_F1.append(np.mean(temp_F1))\n",
    "    uni_cost.append(acc_time[acc_time['Time'] == max(temp_time)]['Cost'])\n",
    "for mintime in uni_time:\n",
    "    uni_model.append(acc_time[acc_time['Time'] == mintime]['Model'])\n",
    "print(uni_acc)\n",
    "plt.plot(uni_time,uni_acc)\n",
    "plt.show"
   ]
  },
  {
   "cell_type": "code",
   "execution_count": null,
   "id": "EOSpCTF0Dk_a",
   "metadata": {
    "colab": {
     "base_uri": "https://localhost:8080/"
    },
    "id": "EOSpCTF0Dk_a",
    "outputId": "c3105e96-4845-4f7f-97ad-51c86b65d23d"
   },
   "outputs": [],
   "source": [
    "print(np.random.randint(1,6,1))"
   ]
  }
 ],
 "metadata": {
  "colab": {
   "provenance": []
  },
  "kernelspec": {
   "display_name": "Python 3",
   "language": "python",
   "name": "python3"
  },
  "language_info": {
   "codemirror_mode": {
    "name": "ipython",
    "version": 3
   },
   "file_extension": ".py",
   "mimetype": "text/x-python",
   "name": "python",
   "nbconvert_exporter": "python",
   "pygments_lexer": "ipython3",
   "version": "3.8.8"
  },
  "widgets": {
   "application/vnd.jupyter.widget-state+json": {
    "0570f0f097d04b41ad001b009d393b30": {
     "model_module": "@jupyter-widgets/base",
     "model_module_version": "1.2.0",
     "model_name": "LayoutModel",
     "state": {
      "_model_module": "@jupyter-widgets/base",
      "_model_module_version": "1.2.0",
      "_model_name": "LayoutModel",
      "_view_count": null,
      "_view_module": "@jupyter-widgets/base",
      "_view_module_version": "1.2.0",
      "_view_name": "LayoutView",
      "align_content": null,
      "align_items": null,
      "align_self": null,
      "border": null,
      "bottom": null,
      "display": null,
      "flex": null,
      "flex_flow": null,
      "grid_area": null,
      "grid_auto_columns": null,
      "grid_auto_flow": null,
      "grid_auto_rows": null,
      "grid_column": null,
      "grid_gap": null,
      "grid_row": null,
      "grid_template_areas": null,
      "grid_template_columns": null,
      "grid_template_rows": null,
      "height": null,
      "justify_content": null,
      "justify_items": null,
      "left": null,
      "margin": null,
      "max_height": null,
      "max_width": null,
      "min_height": null,
      "min_width": null,
      "object_fit": null,
      "object_position": null,
      "order": null,
      "overflow": null,
      "overflow_x": null,
      "overflow_y": null,
      "padding": null,
      "right": null,
      "top": null,
      "visibility": null,
      "width": null
     }
    },
    "07bce2fff91d416c864f63a6473e3c6f": {
     "model_module": "@jupyter-widgets/controls",
     "model_module_version": "1.5.0",
     "model_name": "HTMLModel",
     "state": {
      "_dom_classes": [],
      "_model_module": "@jupyter-widgets/controls",
      "_model_module_version": "1.5.0",
      "_model_name": "HTMLModel",
      "_view_count": null,
      "_view_module": "@jupyter-widgets/controls",
      "_view_module_version": "1.5.0",
      "_view_name": "HTMLView",
      "description": "",
      "description_tooltip": null,
      "layout": "IPY_MODEL_e44d85ecfc10458aa9190eb701110803",
      "placeholder": "​",
      "style": "IPY_MODEL_46fdc4e334b34d418e8f4ecc0f9f8202",
      "value": " 62.7M/62.7M [00:01&lt;00:00, 39.9MB/s]"
     }
    },
    "15fa20032ca5476eabcb71df0dc843db": {
     "model_module": "@jupyter-widgets/controls",
     "model_module_version": "1.5.0",
     "model_name": "HTMLModel",
     "state": {
      "_dom_classes": [],
      "_model_module": "@jupyter-widgets/controls",
      "_model_module_version": "1.5.0",
      "_model_name": "HTMLModel",
      "_view_count": null,
      "_view_module": "@jupyter-widgets/controls",
      "_view_module_version": "1.5.0",
      "_view_name": "HTMLView",
      "description": "",
      "description_tooltip": null,
      "layout": "IPY_MODEL_8215285763ec41ef87097680e085c8ce",
      "placeholder": "​",
      "style": "IPY_MODEL_67656c27c33644dfba7d88ead66acbb1",
      "value": "Downloading pytorch_model.bin: 100%"
     }
    },
    "194f01770fae4f4daf3374079c95e979": {
     "model_module": "@jupyter-widgets/controls",
     "model_module_version": "1.5.0",
     "model_name": "DescriptionStyleModel",
     "state": {
      "_model_module": "@jupyter-widgets/controls",
      "_model_module_version": "1.5.0",
      "_model_name": "DescriptionStyleModel",
      "_view_count": null,
      "_view_module": "@jupyter-widgets/base",
      "_view_module_version": "1.2.0",
      "_view_name": "StyleView",
      "description_width": ""
     }
    },
    "1edaa8803d914b9fb15214e77ebf5c5c": {
     "model_module": "@jupyter-widgets/controls",
     "model_module_version": "1.5.0",
     "model_name": "HTMLModel",
     "state": {
      "_dom_classes": [],
      "_model_module": "@jupyter-widgets/controls",
      "_model_module_version": "1.5.0",
      "_model_name": "HTMLModel",
      "_view_count": null,
      "_view_module": "@jupyter-widgets/controls",
      "_view_module_version": "1.5.0",
      "_view_name": "HTMLView",
      "description": "",
      "description_tooltip": null,
      "layout": "IPY_MODEL_514e0fecaa9441b7be611d295dc85258",
      "placeholder": "​",
      "style": "IPY_MODEL_55ee73b145cd4ef4b2b97a865e341455",
      "value": "Downloading (…)solve/main/vocab.txt: 100%"
     }
    },
    "2cdbafc6c38d44adbbee1fd0433457e7": {
     "model_module": "@jupyter-widgets/controls",
     "model_module_version": "1.5.0",
     "model_name": "ProgressStyleModel",
     "state": {
      "_model_module": "@jupyter-widgets/controls",
      "_model_module_version": "1.5.0",
      "_model_name": "ProgressStyleModel",
      "_view_count": null,
      "_view_module": "@jupyter-widgets/base",
      "_view_module_version": "1.2.0",
      "_view_name": "StyleView",
      "bar_color": null,
      "description_width": ""
     }
    },
    "2d3bc491d68e401da3d031e2a193099f": {
     "model_module": "@jupyter-widgets/base",
     "model_module_version": "1.2.0",
     "model_name": "LayoutModel",
     "state": {
      "_model_module": "@jupyter-widgets/base",
      "_model_module_version": "1.2.0",
      "_model_name": "LayoutModel",
      "_view_count": null,
      "_view_module": "@jupyter-widgets/base",
      "_view_module_version": "1.2.0",
      "_view_name": "LayoutView",
      "align_content": null,
      "align_items": null,
      "align_self": null,
      "border": null,
      "bottom": null,
      "display": null,
      "flex": null,
      "flex_flow": null,
      "grid_area": null,
      "grid_auto_columns": null,
      "grid_auto_flow": null,
      "grid_auto_rows": null,
      "grid_column": null,
      "grid_gap": null,
      "grid_row": null,
      "grid_template_areas": null,
      "grid_template_columns": null,
      "grid_template_rows": null,
      "height": null,
      "justify_content": null,
      "justify_items": null,
      "left": null,
      "margin": null,
      "max_height": null,
      "max_width": null,
      "min_height": null,
      "min_width": null,
      "object_fit": null,
      "object_position": null,
      "order": null,
      "overflow": null,
      "overflow_x": null,
      "overflow_y": null,
      "padding": null,
      "right": null,
      "top": null,
      "visibility": null,
      "width": null
     }
    },
    "46fdc4e334b34d418e8f4ecc0f9f8202": {
     "model_module": "@jupyter-widgets/controls",
     "model_module_version": "1.5.0",
     "model_name": "DescriptionStyleModel",
     "state": {
      "_model_module": "@jupyter-widgets/controls",
      "_model_module_version": "1.5.0",
      "_model_name": "DescriptionStyleModel",
      "_view_count": null,
      "_view_module": "@jupyter-widgets/base",
      "_view_module_version": "1.2.0",
      "_view_name": "StyleView",
      "description_width": ""
     }
    },
    "4a3d96fdd3f1404c9a5b5d45221b4d2e": {
     "model_module": "@jupyter-widgets/controls",
     "model_module_version": "1.5.0",
     "model_name": "FloatProgressModel",
     "state": {
      "_dom_classes": [],
      "_model_module": "@jupyter-widgets/controls",
      "_model_module_version": "1.5.0",
      "_model_name": "FloatProgressModel",
      "_view_count": null,
      "_view_module": "@jupyter-widgets/controls",
      "_view_module_version": "1.5.0",
      "_view_name": "ProgressView",
      "bar_style": "success",
      "description": "",
      "description_tooltip": null,
      "layout": "IPY_MODEL_b5b20f3aea6e4c6faaa2e6b00997efbc",
      "max": 62747391,
      "min": 0,
      "orientation": "horizontal",
      "style": "IPY_MODEL_53144ba141ca47c0ad6c61d69974c43a",
      "value": 62747391
     }
    },
    "514e0fecaa9441b7be611d295dc85258": {
     "model_module": "@jupyter-widgets/base",
     "model_module_version": "1.2.0",
     "model_name": "LayoutModel",
     "state": {
      "_model_module": "@jupyter-widgets/base",
      "_model_module_version": "1.2.0",
      "_model_name": "LayoutModel",
      "_view_count": null,
      "_view_module": "@jupyter-widgets/base",
      "_view_module_version": "1.2.0",
      "_view_name": "LayoutView",
      "align_content": null,
      "align_items": null,
      "align_self": null,
      "border": null,
      "bottom": null,
      "display": null,
      "flex": null,
      "flex_flow": null,
      "grid_area": null,
      "grid_auto_columns": null,
      "grid_auto_flow": null,
      "grid_auto_rows": null,
      "grid_column": null,
      "grid_gap": null,
      "grid_row": null,
      "grid_template_areas": null,
      "grid_template_columns": null,
      "grid_template_rows": null,
      "height": null,
      "justify_content": null,
      "justify_items": null,
      "left": null,
      "margin": null,
      "max_height": null,
      "max_width": null,
      "min_height": null,
      "min_width": null,
      "object_fit": null,
      "object_position": null,
      "order": null,
      "overflow": null,
      "overflow_x": null,
      "overflow_y": null,
      "padding": null,
      "right": null,
      "top": null,
      "visibility": null,
      "width": null
     }
    },
    "53144ba141ca47c0ad6c61d69974c43a": {
     "model_module": "@jupyter-widgets/controls",
     "model_module_version": "1.5.0",
     "model_name": "ProgressStyleModel",
     "state": {
      "_model_module": "@jupyter-widgets/controls",
      "_model_module_version": "1.5.0",
      "_model_name": "ProgressStyleModel",
      "_view_count": null,
      "_view_module": "@jupyter-widgets/base",
      "_view_module_version": "1.2.0",
      "_view_name": "StyleView",
      "bar_color": null,
      "description_width": ""
     }
    },
    "55ee73b145cd4ef4b2b97a865e341455": {
     "model_module": "@jupyter-widgets/controls",
     "model_module_version": "1.5.0",
     "model_name": "DescriptionStyleModel",
     "state": {
      "_model_module": "@jupyter-widgets/controls",
      "_model_module_version": "1.5.0",
      "_model_name": "DescriptionStyleModel",
      "_view_count": null,
      "_view_module": "@jupyter-widgets/base",
      "_view_module_version": "1.2.0",
      "_view_name": "StyleView",
      "description_width": ""
     }
    },
    "58d589e0dcb7426abebc70f92e7805d2": {
     "model_module": "@jupyter-widgets/controls",
     "model_module_version": "1.5.0",
     "model_name": "HBoxModel",
     "state": {
      "_dom_classes": [],
      "_model_module": "@jupyter-widgets/controls",
      "_model_module_version": "1.5.0",
      "_model_name": "HBoxModel",
      "_view_count": null,
      "_view_module": "@jupyter-widgets/controls",
      "_view_module_version": "1.5.0",
      "_view_name": "HBoxView",
      "box_style": "",
      "children": [
       "IPY_MODEL_15fa20032ca5476eabcb71df0dc843db",
       "IPY_MODEL_4a3d96fdd3f1404c9a5b5d45221b4d2e",
       "IPY_MODEL_07bce2fff91d416c864f63a6473e3c6f"
      ],
      "layout": "IPY_MODEL_0570f0f097d04b41ad001b009d393b30"
     }
    },
    "631fdd61294d4114ab2805e6c36a84dc": {
     "model_module": "@jupyter-widgets/base",
     "model_module_version": "1.2.0",
     "model_name": "LayoutModel",
     "state": {
      "_model_module": "@jupyter-widgets/base",
      "_model_module_version": "1.2.0",
      "_model_name": "LayoutModel",
      "_view_count": null,
      "_view_module": "@jupyter-widgets/base",
      "_view_module_version": "1.2.0",
      "_view_name": "LayoutView",
      "align_content": null,
      "align_items": null,
      "align_self": null,
      "border": null,
      "bottom": null,
      "display": null,
      "flex": null,
      "flex_flow": null,
      "grid_area": null,
      "grid_auto_columns": null,
      "grid_auto_flow": null,
      "grid_auto_rows": null,
      "grid_column": null,
      "grid_gap": null,
      "grid_row": null,
      "grid_template_areas": null,
      "grid_template_columns": null,
      "grid_template_rows": null,
      "height": null,
      "justify_content": null,
      "justify_items": null,
      "left": null,
      "margin": null,
      "max_height": null,
      "max_width": null,
      "min_height": null,
      "min_width": null,
      "object_fit": null,
      "object_position": null,
      "order": null,
      "overflow": null,
      "overflow_x": null,
      "overflow_y": null,
      "padding": null,
      "right": null,
      "top": null,
      "visibility": null,
      "width": null
     }
    },
    "67656c27c33644dfba7d88ead66acbb1": {
     "model_module": "@jupyter-widgets/controls",
     "model_module_version": "1.5.0",
     "model_name": "DescriptionStyleModel",
     "state": {
      "_model_module": "@jupyter-widgets/controls",
      "_model_module_version": "1.5.0",
      "_model_name": "DescriptionStyleModel",
      "_view_count": null,
      "_view_module": "@jupyter-widgets/base",
      "_view_module_version": "1.2.0",
      "_view_name": "StyleView",
      "description_width": ""
     }
    },
    "6ecb4a9ef0d9406fb3d2d66f2c668463": {
     "model_module": "@jupyter-widgets/controls",
     "model_module_version": "1.5.0",
     "model_name": "HTMLModel",
     "state": {
      "_dom_classes": [],
      "_model_module": "@jupyter-widgets/controls",
      "_model_module_version": "1.5.0",
      "_model_name": "HTMLModel",
      "_view_count": null,
      "_view_module": "@jupyter-widgets/controls",
      "_view_module_version": "1.5.0",
      "_view_name": "HTMLView",
      "description": "",
      "description_tooltip": null,
      "layout": "IPY_MODEL_a5c768a1171c4ea9b81b28e12925c225",
      "placeholder": "​",
      "style": "IPY_MODEL_eb4ed875da6e4f85885ae800b6e16df2",
      "value": "Downloading (…)lve/main/config.json: 100%"
     }
    },
    "719ed1bf06b94762b7738ed0acd5e5a1": {
     "model_module": "@jupyter-widgets/controls",
     "model_module_version": "1.5.0",
     "model_name": "HBoxModel",
     "state": {
      "_dom_classes": [],
      "_model_module": "@jupyter-widgets/controls",
      "_model_module_version": "1.5.0",
      "_model_name": "HBoxModel",
      "_view_count": null,
      "_view_module": "@jupyter-widgets/controls",
      "_view_module_version": "1.5.0",
      "_view_name": "HBoxView",
      "box_style": "",
      "children": [
       "IPY_MODEL_6ecb4a9ef0d9406fb3d2d66f2c668463",
       "IPY_MODEL_af6a93b5c2504f8e8d72daf30f3e2479",
       "IPY_MODEL_cf5fc98f02044299b47f4cb87cf49009"
      ],
      "layout": "IPY_MODEL_833aedea27d8420ea46e173fe6ee85cc"
     }
    },
    "8215285763ec41ef87097680e085c8ce": {
     "model_module": "@jupyter-widgets/base",
     "model_module_version": "1.2.0",
     "model_name": "LayoutModel",
     "state": {
      "_model_module": "@jupyter-widgets/base",
      "_model_module_version": "1.2.0",
      "_model_name": "LayoutModel",
      "_view_count": null,
      "_view_module": "@jupyter-widgets/base",
      "_view_module_version": "1.2.0",
      "_view_name": "LayoutView",
      "align_content": null,
      "align_items": null,
      "align_self": null,
      "border": null,
      "bottom": null,
      "display": null,
      "flex": null,
      "flex_flow": null,
      "grid_area": null,
      "grid_auto_columns": null,
      "grid_auto_flow": null,
      "grid_auto_rows": null,
      "grid_column": null,
      "grid_gap": null,
      "grid_row": null,
      "grid_template_areas": null,
      "grid_template_columns": null,
      "grid_template_rows": null,
      "height": null,
      "justify_content": null,
      "justify_items": null,
      "left": null,
      "margin": null,
      "max_height": null,
      "max_width": null,
      "min_height": null,
      "min_width": null,
      "object_fit": null,
      "object_position": null,
      "order": null,
      "overflow": null,
      "overflow_x": null,
      "overflow_y": null,
      "padding": null,
      "right": null,
      "top": null,
      "visibility": null,
      "width": null
     }
    },
    "833aedea27d8420ea46e173fe6ee85cc": {
     "model_module": "@jupyter-widgets/base",
     "model_module_version": "1.2.0",
     "model_name": "LayoutModel",
     "state": {
      "_model_module": "@jupyter-widgets/base",
      "_model_module_version": "1.2.0",
      "_model_name": "LayoutModel",
      "_view_count": null,
      "_view_module": "@jupyter-widgets/base",
      "_view_module_version": "1.2.0",
      "_view_name": "LayoutView",
      "align_content": null,
      "align_items": null,
      "align_self": null,
      "border": null,
      "bottom": null,
      "display": null,
      "flex": null,
      "flex_flow": null,
      "grid_area": null,
      "grid_auto_columns": null,
      "grid_auto_flow": null,
      "grid_auto_rows": null,
      "grid_column": null,
      "grid_gap": null,
      "grid_row": null,
      "grid_template_areas": null,
      "grid_template_columns": null,
      "grid_template_rows": null,
      "height": null,
      "justify_content": null,
      "justify_items": null,
      "left": null,
      "margin": null,
      "max_height": null,
      "max_width": null,
      "min_height": null,
      "min_width": null,
      "object_fit": null,
      "object_position": null,
      "order": null,
      "overflow": null,
      "overflow_x": null,
      "overflow_y": null,
      "padding": null,
      "right": null,
      "top": null,
      "visibility": null,
      "width": null
     }
    },
    "8f09d6b6c2aa4e96b930b5d7e36af327": {
     "model_module": "@jupyter-widgets/controls",
     "model_module_version": "1.5.0",
     "model_name": "ProgressStyleModel",
     "state": {
      "_model_module": "@jupyter-widgets/controls",
      "_model_module_version": "1.5.0",
      "_model_name": "ProgressStyleModel",
      "_view_count": null,
      "_view_module": "@jupyter-widgets/base",
      "_view_module_version": "1.2.0",
      "_view_name": "StyleView",
      "bar_color": null,
      "description_width": ""
     }
    },
    "908485d7f3f5476a888459400acfeb9f": {
     "model_module": "@jupyter-widgets/base",
     "model_module_version": "1.2.0",
     "model_name": "LayoutModel",
     "state": {
      "_model_module": "@jupyter-widgets/base",
      "_model_module_version": "1.2.0",
      "_model_name": "LayoutModel",
      "_view_count": null,
      "_view_module": "@jupyter-widgets/base",
      "_view_module_version": "1.2.0",
      "_view_name": "LayoutView",
      "align_content": null,
      "align_items": null,
      "align_self": null,
      "border": null,
      "bottom": null,
      "display": null,
      "flex": null,
      "flex_flow": null,
      "grid_area": null,
      "grid_auto_columns": null,
      "grid_auto_flow": null,
      "grid_auto_rows": null,
      "grid_column": null,
      "grid_gap": null,
      "grid_row": null,
      "grid_template_areas": null,
      "grid_template_columns": null,
      "grid_template_rows": null,
      "height": null,
      "justify_content": null,
      "justify_items": null,
      "left": null,
      "margin": null,
      "max_height": null,
      "max_width": null,
      "min_height": null,
      "min_width": null,
      "object_fit": null,
      "object_position": null,
      "order": null,
      "overflow": null,
      "overflow_x": null,
      "overflow_y": null,
      "padding": null,
      "right": null,
      "top": null,
      "visibility": null,
      "width": null
     }
    },
    "a5c768a1171c4ea9b81b28e12925c225": {
     "model_module": "@jupyter-widgets/base",
     "model_module_version": "1.2.0",
     "model_name": "LayoutModel",
     "state": {
      "_model_module": "@jupyter-widgets/base",
      "_model_module_version": "1.2.0",
      "_model_name": "LayoutModel",
      "_view_count": null,
      "_view_module": "@jupyter-widgets/base",
      "_view_module_version": "1.2.0",
      "_view_name": "LayoutView",
      "align_content": null,
      "align_items": null,
      "align_self": null,
      "border": null,
      "bottom": null,
      "display": null,
      "flex": null,
      "flex_flow": null,
      "grid_area": null,
      "grid_auto_columns": null,
      "grid_auto_flow": null,
      "grid_auto_rows": null,
      "grid_column": null,
      "grid_gap": null,
      "grid_row": null,
      "grid_template_areas": null,
      "grid_template_columns": null,
      "grid_template_rows": null,
      "height": null,
      "justify_content": null,
      "justify_items": null,
      "left": null,
      "margin": null,
      "max_height": null,
      "max_width": null,
      "min_height": null,
      "min_width": null,
      "object_fit": null,
      "object_position": null,
      "order": null,
      "overflow": null,
      "overflow_x": null,
      "overflow_y": null,
      "padding": null,
      "right": null,
      "top": null,
      "visibility": null,
      "width": null
     }
    },
    "af6a93b5c2504f8e8d72daf30f3e2479": {
     "model_module": "@jupyter-widgets/controls",
     "model_module_version": "1.5.0",
     "model_name": "FloatProgressModel",
     "state": {
      "_dom_classes": [],
      "_model_module": "@jupyter-widgets/controls",
      "_model_module_version": "1.5.0",
      "_model_name": "FloatProgressModel",
      "_view_count": null,
      "_view_module": "@jupyter-widgets/controls",
      "_view_module_version": "1.5.0",
      "_view_name": "ProgressView",
      "bar_style": "success",
      "description": "",
      "description_tooltip": null,
      "layout": "IPY_MODEL_d0efbcc559fd4c79a00e9b93146dbd61",
      "max": 409,
      "min": 0,
      "orientation": "horizontal",
      "style": "IPY_MODEL_8f09d6b6c2aa4e96b930b5d7e36af327",
      "value": 409
     }
    },
    "b5b20f3aea6e4c6faaa2e6b00997efbc": {
     "model_module": "@jupyter-widgets/base",
     "model_module_version": "1.2.0",
     "model_name": "LayoutModel",
     "state": {
      "_model_module": "@jupyter-widgets/base",
      "_model_module_version": "1.2.0",
      "_model_name": "LayoutModel",
      "_view_count": null,
      "_view_module": "@jupyter-widgets/base",
      "_view_module_version": "1.2.0",
      "_view_name": "LayoutView",
      "align_content": null,
      "align_items": null,
      "align_self": null,
      "border": null,
      "bottom": null,
      "display": null,
      "flex": null,
      "flex_flow": null,
      "grid_area": null,
      "grid_auto_columns": null,
      "grid_auto_flow": null,
      "grid_auto_rows": null,
      "grid_column": null,
      "grid_gap": null,
      "grid_row": null,
      "grid_template_areas": null,
      "grid_template_columns": null,
      "grid_template_rows": null,
      "height": null,
      "justify_content": null,
      "justify_items": null,
      "left": null,
      "margin": null,
      "max_height": null,
      "max_width": null,
      "min_height": null,
      "min_width": null,
      "object_fit": null,
      "object_position": null,
      "order": null,
      "overflow": null,
      "overflow_x": null,
      "overflow_y": null,
      "padding": null,
      "right": null,
      "top": null,
      "visibility": null,
      "width": null
     }
    },
    "c33a6f2be38f491ca7ab0cca069f2c53": {
     "model_module": "@jupyter-widgets/controls",
     "model_module_version": "1.5.0",
     "model_name": "FloatProgressModel",
     "state": {
      "_dom_classes": [],
      "_model_module": "@jupyter-widgets/controls",
      "_model_module_version": "1.5.0",
      "_model_name": "FloatProgressModel",
      "_view_count": null,
      "_view_module": "@jupyter-widgets/controls",
      "_view_module_version": "1.5.0",
      "_view_name": "ProgressView",
      "bar_style": "success",
      "description": "",
      "description_tooltip": null,
      "layout": "IPY_MODEL_2d3bc491d68e401da3d031e2a193099f",
      "max": 231508,
      "min": 0,
      "orientation": "horizontal",
      "style": "IPY_MODEL_2cdbafc6c38d44adbbee1fd0433457e7",
      "value": 231508
     }
    },
    "c439558f302f42239cd9c2764e09469c": {
     "model_module": "@jupyter-widgets/controls",
     "model_module_version": "1.5.0",
     "model_name": "HBoxModel",
     "state": {
      "_dom_classes": [],
      "_model_module": "@jupyter-widgets/controls",
      "_model_module_version": "1.5.0",
      "_model_name": "HBoxModel",
      "_view_count": null,
      "_view_module": "@jupyter-widgets/controls",
      "_view_module_version": "1.5.0",
      "_view_name": "HBoxView",
      "box_style": "",
      "children": [
       "IPY_MODEL_1edaa8803d914b9fb15214e77ebf5c5c",
       "IPY_MODEL_c33a6f2be38f491ca7ab0cca069f2c53",
       "IPY_MODEL_edd1cca7ed7f4e5dbc8b0ead16f3829b"
      ],
      "layout": "IPY_MODEL_631fdd61294d4114ab2805e6c36a84dc"
     }
    },
    "cb9b32cb3dcc46a9bdbb53de7b96489e": {
     "model_module": "@jupyter-widgets/base",
     "model_module_version": "1.2.0",
     "model_name": "LayoutModel",
     "state": {
      "_model_module": "@jupyter-widgets/base",
      "_model_module_version": "1.2.0",
      "_model_name": "LayoutModel",
      "_view_count": null,
      "_view_module": "@jupyter-widgets/base",
      "_view_module_version": "1.2.0",
      "_view_name": "LayoutView",
      "align_content": null,
      "align_items": null,
      "align_self": null,
      "border": null,
      "bottom": null,
      "display": null,
      "flex": null,
      "flex_flow": null,
      "grid_area": null,
      "grid_auto_columns": null,
      "grid_auto_flow": null,
      "grid_auto_rows": null,
      "grid_column": null,
      "grid_gap": null,
      "grid_row": null,
      "grid_template_areas": null,
      "grid_template_columns": null,
      "grid_template_rows": null,
      "height": null,
      "justify_content": null,
      "justify_items": null,
      "left": null,
      "margin": null,
      "max_height": null,
      "max_width": null,
      "min_height": null,
      "min_width": null,
      "object_fit": null,
      "object_position": null,
      "order": null,
      "overflow": null,
      "overflow_x": null,
      "overflow_y": null,
      "padding": null,
      "right": null,
      "top": null,
      "visibility": null,
      "width": null
     }
    },
    "cf5fc98f02044299b47f4cb87cf49009": {
     "model_module": "@jupyter-widgets/controls",
     "model_module_version": "1.5.0",
     "model_name": "HTMLModel",
     "state": {
      "_dom_classes": [],
      "_model_module": "@jupyter-widgets/controls",
      "_model_module_version": "1.5.0",
      "_model_name": "HTMLModel",
      "_view_count": null,
      "_view_module": "@jupyter-widgets/controls",
      "_view_module_version": "1.5.0",
      "_view_name": "HTMLView",
      "description": "",
      "description_tooltip": null,
      "layout": "IPY_MODEL_cb9b32cb3dcc46a9bdbb53de7b96489e",
      "placeholder": "​",
      "style": "IPY_MODEL_194f01770fae4f4daf3374079c95e979",
      "value": " 409/409 [00:00&lt;00:00, 13.2kB/s]"
     }
    },
    "d0efbcc559fd4c79a00e9b93146dbd61": {
     "model_module": "@jupyter-widgets/base",
     "model_module_version": "1.2.0",
     "model_name": "LayoutModel",
     "state": {
      "_model_module": "@jupyter-widgets/base",
      "_model_module_version": "1.2.0",
      "_model_name": "LayoutModel",
      "_view_count": null,
      "_view_module": "@jupyter-widgets/base",
      "_view_module_version": "1.2.0",
      "_view_name": "LayoutView",
      "align_content": null,
      "align_items": null,
      "align_self": null,
      "border": null,
      "bottom": null,
      "display": null,
      "flex": null,
      "flex_flow": null,
      "grid_area": null,
      "grid_auto_columns": null,
      "grid_auto_flow": null,
      "grid_auto_rows": null,
      "grid_column": null,
      "grid_gap": null,
      "grid_row": null,
      "grid_template_areas": null,
      "grid_template_columns": null,
      "grid_template_rows": null,
      "height": null,
      "justify_content": null,
      "justify_items": null,
      "left": null,
      "margin": null,
      "max_height": null,
      "max_width": null,
      "min_height": null,
      "min_width": null,
      "object_fit": null,
      "object_position": null,
      "order": null,
      "overflow": null,
      "overflow_x": null,
      "overflow_y": null,
      "padding": null,
      "right": null,
      "top": null,
      "visibility": null,
      "width": null
     }
    },
    "e15cd38be5fc415aa25e5a935df8e037": {
     "model_module": "@jupyter-widgets/controls",
     "model_module_version": "1.5.0",
     "model_name": "DescriptionStyleModel",
     "state": {
      "_model_module": "@jupyter-widgets/controls",
      "_model_module_version": "1.5.0",
      "_model_name": "DescriptionStyleModel",
      "_view_count": null,
      "_view_module": "@jupyter-widgets/base",
      "_view_module_version": "1.2.0",
      "_view_name": "StyleView",
      "description_width": ""
     }
    },
    "e44d85ecfc10458aa9190eb701110803": {
     "model_module": "@jupyter-widgets/base",
     "model_module_version": "1.2.0",
     "model_name": "LayoutModel",
     "state": {
      "_model_module": "@jupyter-widgets/base",
      "_model_module_version": "1.2.0",
      "_model_name": "LayoutModel",
      "_view_count": null,
      "_view_module": "@jupyter-widgets/base",
      "_view_module_version": "1.2.0",
      "_view_name": "LayoutView",
      "align_content": null,
      "align_items": null,
      "align_self": null,
      "border": null,
      "bottom": null,
      "display": null,
      "flex": null,
      "flex_flow": null,
      "grid_area": null,
      "grid_auto_columns": null,
      "grid_auto_flow": null,
      "grid_auto_rows": null,
      "grid_column": null,
      "grid_gap": null,
      "grid_row": null,
      "grid_template_areas": null,
      "grid_template_columns": null,
      "grid_template_rows": null,
      "height": null,
      "justify_content": null,
      "justify_items": null,
      "left": null,
      "margin": null,
      "max_height": null,
      "max_width": null,
      "min_height": null,
      "min_width": null,
      "object_fit": null,
      "object_position": null,
      "order": null,
      "overflow": null,
      "overflow_x": null,
      "overflow_y": null,
      "padding": null,
      "right": null,
      "top": null,
      "visibility": null,
      "width": null
     }
    },
    "eb4ed875da6e4f85885ae800b6e16df2": {
     "model_module": "@jupyter-widgets/controls",
     "model_module_version": "1.5.0",
     "model_name": "DescriptionStyleModel",
     "state": {
      "_model_module": "@jupyter-widgets/controls",
      "_model_module_version": "1.5.0",
      "_model_name": "DescriptionStyleModel",
      "_view_count": null,
      "_view_module": "@jupyter-widgets/base",
      "_view_module_version": "1.2.0",
      "_view_name": "StyleView",
      "description_width": ""
     }
    },
    "edd1cca7ed7f4e5dbc8b0ead16f3829b": {
     "model_module": "@jupyter-widgets/controls",
     "model_module_version": "1.5.0",
     "model_name": "HTMLModel",
     "state": {
      "_dom_classes": [],
      "_model_module": "@jupyter-widgets/controls",
      "_model_module_version": "1.5.0",
      "_model_name": "HTMLModel",
      "_view_count": null,
      "_view_module": "@jupyter-widgets/controls",
      "_view_module_version": "1.5.0",
      "_view_name": "HTMLView",
      "description": "",
      "description_tooltip": null,
      "layout": "IPY_MODEL_908485d7f3f5476a888459400acfeb9f",
      "placeholder": "​",
      "style": "IPY_MODEL_e15cd38be5fc415aa25e5a935df8e037",
      "value": " 232k/232k [00:00&lt;00:00, 2.32MB/s]"
     }
    }
   }
  }
 },
 "nbformat": 4,
 "nbformat_minor": 5
}
